{
  "nbformat": 4,
  "nbformat_minor": 0,
  "metadata": {
    "colab": {
      "name": "Notebook.ipynb",
      "provenance": [],
      "collapsed_sections": [],
      "include_colab_link": true
    },
    "kernelspec": {
      "name": "python3",
      "display_name": "Python 3"
    },
    "language_info": {
      "name": "python"
    }
  },
  "cells": [
    {
      "cell_type": "markdown",
      "metadata": {
        "id": "view-in-github",
        "colab_type": "text"
      },
      "source": [
        "<a href=\"https://colab.research.google.com/github/duvetanner/BTC_Project/blob/main/Notebook.ipynb\" target=\"_parent\"><img src=\"https://colab.research.google.com/assets/colab-badge.svg\" alt=\"Open In Colab\"/></a>"
      ]
    },
    {
      "cell_type": "markdown",
      "metadata": {
        "id": "1w9aXmZXC442"
      },
      "source": [
        "# CIS 545 Final Project: Using Twitter Data to Predict Bitcoin’s Price\n",
        "\n",
        "### Group Members: Kevin Zhou, Rohit Jagga, Tanner Duve"
      ]
    },
    {
      "cell_type": "markdown",
      "metadata": {
        "id": "W4skyjUfDZ3U"
      },
      "source": [
        "# Step 1: Exploratory Data Analysis"
      ]
    },
    {
      "cell_type": "markdown",
      "metadata": {
        "id": "jcQtpbwobWgy"
      },
      "source": [
        "## Step 1.0: Download Datasets + Imports"
      ]
    },
    {
      "cell_type": "code",
      "metadata": {
        "colab": {
          "base_uri": "https://localhost:8080/"
        },
        "id": "uA4zSpdZBQSN",
        "outputId": "95e2d68c-e50a-4dde-c29f-0cd56563b818"
      },
      "source": [
        "from google.colab import drive\n",
        "drive.mount('/content/gdrive')"
      ],
      "execution_count": null,
      "outputs": [
        {
          "output_type": "stream",
          "text": [
            "Mounted at /content/gdrive\n"
          ],
          "name": "stdout"
        }
      ]
    },
    {
      "cell_type": "code",
      "metadata": {
        "id": "Rz2nUAOtBT5B"
      },
      "source": [
        "import os\n",
        "os.environ['KAGGLE_CONFIG_DIR'] = \"/content/gdrive/My Drive/Kaggle\""
      ],
      "execution_count": null,
      "outputs": []
    },
    {
      "cell_type": "code",
      "metadata": {
        "colab": {
          "base_uri": "https://localhost:8080/"
        },
        "id": "6SRaQgj6B2YS",
        "outputId": "38426804-d9c0-4ef6-9d7c-257cb8e56df1"
      },
      "source": [
        "%cd /content/gdrive/My Drive/Kaggle"
      ],
      "execution_count": null,
      "outputs": [
        {
          "output_type": "stream",
          "text": [
            "/content/gdrive/My Drive/Kaggle\n"
          ],
          "name": "stdout"
        }
      ]
    },
    {
      "cell_type": "code",
      "metadata": {
        "colab": {
          "base_uri": "https://localhost:8080/"
        },
        "id": "BL6eOxjKBlyE",
        "outputId": "3a264ea0-c50d-4258-c802-c53973362302"
      },
      "source": [
        "!kaggle datasets download -d mczielinski/bitcoin-historical-data"
      ],
      "execution_count": null,
      "outputs": [
        {
          "output_type": "stream",
          "text": [
            "Downloading bitcoin-historical-data.zip to /content/gdrive/My Drive/Kaggle\n",
            " 94% 94.0M/100M [00:01<00:00, 102MB/s] \n",
            "100% 100M/100M [00:01<00:00, 93.8MB/s]\n"
          ],
          "name": "stdout"
        }
      ]
    },
    {
      "cell_type": "code",
      "metadata": {
        "colab": {
          "base_uri": "https://localhost:8080/"
        },
        "id": "teFuGQZYB7gO",
        "outputId": "b9e3148e-5c4f-4f2a-f2be-8e8e6751153c"
      },
      "source": [
        "!kaggle datasets download -d alaix14/bitcoin-tweets-20160101-to-20190329"
      ],
      "execution_count": null,
      "outputs": [
        {
          "output_type": "stream",
          "text": [
            "Downloading bitcoin-tweets-20160101-to-20190329.zip to /content/gdrive/My Drive/Kaggle\n",
            " 99% 1.58G/1.58G [00:18<00:00, 116MB/s]\n",
            "100% 1.58G/1.58G [00:18<00:00, 92.4MB/s]\n"
          ],
          "name": "stdout"
        }
      ]
    },
    {
      "cell_type": "code",
      "metadata": {
        "colab": {
          "base_uri": "https://localhost:8080/"
        },
        "id": "3hNaOEQ9CmSp",
        "outputId": "0d736671-9d2f-4b81-8f0b-221490b7efb3"
      },
      "source": [
        "# unzips the archived files\n",
        "!unzip \\*.zip  && rm *.zip# unzips the archived files\n",
        "!unzip \\*.zip  && rm *.zip"
      ],
      "execution_count": null,
      "outputs": [
        {
          "output_type": "stream",
          "text": [
            "Archive:  bitcoin-historical-data.zip\n",
            "replace bitstampUSD_1-min_data_2012-01-01_to_2021-03-31.csv? [y]es, [n]o, [A]ll, [N]one, [r]ename: n\n",
            "\n",
            "Archive:  bitcoin-tweets-20160101-to-20190329.zip\n",
            "replace tweets.csv? [y]es, [n]o, [A]ll, [N]one, [r]ename: n\n",
            "\n",
            "2 archives were successfully processed.\n"
          ],
          "name": "stdout"
        }
      ]
    },
    {
      "cell_type": "code",
      "metadata": {
        "id": "CyTQsgYh89ux"
      },
      "source": [
        "import pandas as pd\n",
        "import numpy as np\n",
        "import matplotlib.pyplot as plt\n",
        "import seaborn as sns\n",
        "import plotly.express as px\n",
        "import plotly.graph_objects as go\n",
        "from datetime import datetime"
      ],
      "execution_count": null,
      "outputs": []
    },
    {
      "cell_type": "markdown",
      "metadata": {
        "id": "gFymvxDScdfP"
      },
      "source": [
        "## Step 1.1: Loading in Data + Preliminary Processing"
      ]
    },
    {
      "cell_type": "code",
      "metadata": {
        "colab": {
          "base_uri": "https://localhost:8080/"
        },
        "id": "0QqHSbfqcoX6",
        "outputId": "fa7b18ae-2ff8-4e71-a394-863ead623f84"
      },
      "source": [
        "tweets_df = pd.read_csv('tweets.csv', \n",
        "                        delimiter = ';', skiprows = 0, lineterminator = '\\n' )\n",
        "historical_df = pd.read_csv('bitstampUSD_1-min_data_2012-01-01_to_2021-03-31.csv')"
      ],
      "execution_count": null,
      "outputs": [
        {
          "output_type": "stream",
          "text": [
            "/usr/local/lib/python3.7/dist-packages/IPython/core/interactiveshell.py:2718: DtypeWarning:\n",
            "\n",
            "Columns (3) have mixed types.Specify dtype option on import or set low_memory=False.\n",
            "\n"
          ],
          "name": "stderr"
        }
      ]
    },
    {
      "cell_type": "code",
      "metadata": {
        "id": "iUxdxjRjjXAz"
      },
      "source": [
        "tweets_df['timestamp'] = pd.to_datetime(tweets_df['timestamp'])\n",
        "historical_df['Timestamp'] = [datetime.fromtimestamp(x) for x in historical_df['Timestamp']] "
      ],
      "execution_count": null,
      "outputs": []
    },
    {
      "cell_type": "code",
      "metadata": {
        "colab": {
          "base_uri": "https://localhost:8080/"
        },
        "id": "eKFt5EIokCsj",
        "outputId": "0a8b65c4-e590-43b9-9db3-916a2ed10e46"
      },
      "source": [
        "tweets_df.dtypes"
      ],
      "execution_count": null,
      "outputs": [
        {
          "output_type": "execute_result",
          "data": {
            "text/plain": [
              "id                       float64\n",
              "user                      object\n",
              "fullname                  object\n",
              "url                       object\n",
              "timestamp    datetime64[ns, UTC]\n",
              "replies                    int64\n",
              "likes                      int64\n",
              "retweets                   int64\n",
              "text\\r                    object\n",
              "dtype: object"
            ]
          },
          "metadata": {
            "tags": []
          },
          "execution_count": 10
        }
      ]
    },
    {
      "cell_type": "code",
      "metadata": {
        "colab": {
          "base_uri": "https://localhost:8080/"
        },
        "id": "ZZbwns1rkJUb",
        "outputId": "1158d696-1037-4140-8eda-2cb97311d5a3"
      },
      "source": [
        "historical_df.dtypes"
      ],
      "execution_count": null,
      "outputs": [
        {
          "output_type": "execute_result",
          "data": {
            "text/plain": [
              "Timestamp            datetime64[ns]\n",
              "Open                        float64\n",
              "High                        float64\n",
              "Low                         float64\n",
              "Close                       float64\n",
              "Volume_(BTC)                float64\n",
              "Volume_(Currency)           float64\n",
              "Weighted_Price              float64\n",
              "dtype: object"
            ]
          },
          "metadata": {
            "tags": []
          },
          "execution_count": 11
        }
      ]
    },
    {
      "cell_type": "code",
      "metadata": {
        "colab": {
          "base_uri": "https://localhost:8080/",
          "height": 289
        },
        "id": "-T7-p8l4iGl0",
        "outputId": "780c62a4-1eea-4668-e74d-9db6d8ec0de4"
      },
      "source": [
        "tweets_df.head()"
      ],
      "execution_count": null,
      "outputs": [
        {
          "output_type": "execute_result",
          "data": {
            "text/html": [
              "<div>\n",
              "<style scoped>\n",
              "    .dataframe tbody tr th:only-of-type {\n",
              "        vertical-align: middle;\n",
              "    }\n",
              "\n",
              "    .dataframe tbody tr th {\n",
              "        vertical-align: top;\n",
              "    }\n",
              "\n",
              "    .dataframe thead th {\n",
              "        text-align: right;\n",
              "    }\n",
              "</style>\n",
              "<table border=\"1\" class=\"dataframe\">\n",
              "  <thead>\n",
              "    <tr style=\"text-align: right;\">\n",
              "      <th></th>\n",
              "      <th>id</th>\n",
              "      <th>user</th>\n",
              "      <th>fullname</th>\n",
              "      <th>url</th>\n",
              "      <th>timestamp</th>\n",
              "      <th>replies</th>\n",
              "      <th>likes</th>\n",
              "      <th>retweets</th>\n",
              "      <th>text\\r</th>\n",
              "    </tr>\n",
              "  </thead>\n",
              "  <tbody>\n",
              "    <tr>\n",
              "      <th>0</th>\n",
              "      <td>1.132977e+18</td>\n",
              "      <td>KamdemAbdiel</td>\n",
              "      <td>Abdiel kamdem</td>\n",
              "      <td>NaN</td>\n",
              "      <td>2019-05-27 11:49:14+00:00</td>\n",
              "      <td>0</td>\n",
              "      <td>0</td>\n",
              "      <td>0</td>\n",
              "      <td>È appena uscito un nuovo video! LES CRYPTOMONN...</td>\n",
              "    </tr>\n",
              "    <tr>\n",
              "      <th>1</th>\n",
              "      <td>1.132977e+18</td>\n",
              "      <td>bitcointe</td>\n",
              "      <td>Bitcointe</td>\n",
              "      <td>NaN</td>\n",
              "      <td>2019-05-27 11:49:18+00:00</td>\n",
              "      <td>0</td>\n",
              "      <td>0</td>\n",
              "      <td>0</td>\n",
              "      <td>Cardano: Digitize Currencies; EOS https://t.co...</td>\n",
              "    </tr>\n",
              "    <tr>\n",
              "      <th>2</th>\n",
              "      <td>1.132977e+18</td>\n",
              "      <td>3eyedbran</td>\n",
              "      <td>Bran - 3 Eyed Raven</td>\n",
              "      <td>NaN</td>\n",
              "      <td>2019-05-27 11:49:06+00:00</td>\n",
              "      <td>0</td>\n",
              "      <td>2</td>\n",
              "      <td>1</td>\n",
              "      <td>Another Test tweet that wasn't caught in the s...</td>\n",
              "    </tr>\n",
              "    <tr>\n",
              "      <th>3</th>\n",
              "      <td>1.132977e+18</td>\n",
              "      <td>DetroitCrypto</td>\n",
              "      <td>J. Scardina</td>\n",
              "      <td>NaN</td>\n",
              "      <td>2019-05-27 11:49:22+00:00</td>\n",
              "      <td>0</td>\n",
              "      <td>0</td>\n",
              "      <td>0</td>\n",
              "      <td>Current Crypto Prices! \\n\\nBTC: $8721.99 USD\\n...</td>\n",
              "    </tr>\n",
              "    <tr>\n",
              "      <th>4</th>\n",
              "      <td>1.132977e+18</td>\n",
              "      <td>mmursaleen72</td>\n",
              "      <td>Muhammad Mursaleen</td>\n",
              "      <td>NaN</td>\n",
              "      <td>2019-05-27 11:49:23+00:00</td>\n",
              "      <td>0</td>\n",
              "      <td>0</td>\n",
              "      <td>0</td>\n",
              "      <td>Spiv (Nosar Baz): BITCOIN Is An Asset &amp;amp; NO...</td>\n",
              "    </tr>\n",
              "  </tbody>\n",
              "</table>\n",
              "</div>"
            ],
            "text/plain": [
              "             id  ...                                             text\\r\n",
              "0  1.132977e+18  ...  È appena uscito un nuovo video! LES CRYPTOMONN...\n",
              "1  1.132977e+18  ...  Cardano: Digitize Currencies; EOS https://t.co...\n",
              "2  1.132977e+18  ...  Another Test tweet that wasn't caught in the s...\n",
              "3  1.132977e+18  ...  Current Crypto Prices! \\n\\nBTC: $8721.99 USD\\n...\n",
              "4  1.132977e+18  ...  Spiv (Nosar Baz): BITCOIN Is An Asset &amp; NO...\n",
              "\n",
              "[5 rows x 9 columns]"
            ]
          },
          "metadata": {
            "tags": []
          },
          "execution_count": 12
        }
      ]
    },
    {
      "cell_type": "code",
      "metadata": {
        "colab": {
          "base_uri": "https://localhost:8080/",
          "height": 204
        },
        "id": "MWIcxtzHi4N8",
        "outputId": "42dd6121-1444-4004-a7fb-f38c1928cf11"
      },
      "source": [
        "historical_df.head()"
      ],
      "execution_count": null,
      "outputs": [
        {
          "output_type": "execute_result",
          "data": {
            "text/html": [
              "<div>\n",
              "<style scoped>\n",
              "    .dataframe tbody tr th:only-of-type {\n",
              "        vertical-align: middle;\n",
              "    }\n",
              "\n",
              "    .dataframe tbody tr th {\n",
              "        vertical-align: top;\n",
              "    }\n",
              "\n",
              "    .dataframe thead th {\n",
              "        text-align: right;\n",
              "    }\n",
              "</style>\n",
              "<table border=\"1\" class=\"dataframe\">\n",
              "  <thead>\n",
              "    <tr style=\"text-align: right;\">\n",
              "      <th></th>\n",
              "      <th>Timestamp</th>\n",
              "      <th>Open</th>\n",
              "      <th>High</th>\n",
              "      <th>Low</th>\n",
              "      <th>Close</th>\n",
              "      <th>Volume_(BTC)</th>\n",
              "      <th>Volume_(Currency)</th>\n",
              "      <th>Weighted_Price</th>\n",
              "    </tr>\n",
              "  </thead>\n",
              "  <tbody>\n",
              "    <tr>\n",
              "      <th>0</th>\n",
              "      <td>2011-12-31 07:52:00</td>\n",
              "      <td>4.39</td>\n",
              "      <td>4.39</td>\n",
              "      <td>4.39</td>\n",
              "      <td>4.39</td>\n",
              "      <td>0.455581</td>\n",
              "      <td>2.0</td>\n",
              "      <td>4.39</td>\n",
              "    </tr>\n",
              "    <tr>\n",
              "      <th>1</th>\n",
              "      <td>2011-12-31 07:53:00</td>\n",
              "      <td>NaN</td>\n",
              "      <td>NaN</td>\n",
              "      <td>NaN</td>\n",
              "      <td>NaN</td>\n",
              "      <td>NaN</td>\n",
              "      <td>NaN</td>\n",
              "      <td>NaN</td>\n",
              "    </tr>\n",
              "    <tr>\n",
              "      <th>2</th>\n",
              "      <td>2011-12-31 07:54:00</td>\n",
              "      <td>NaN</td>\n",
              "      <td>NaN</td>\n",
              "      <td>NaN</td>\n",
              "      <td>NaN</td>\n",
              "      <td>NaN</td>\n",
              "      <td>NaN</td>\n",
              "      <td>NaN</td>\n",
              "    </tr>\n",
              "    <tr>\n",
              "      <th>3</th>\n",
              "      <td>2011-12-31 07:55:00</td>\n",
              "      <td>NaN</td>\n",
              "      <td>NaN</td>\n",
              "      <td>NaN</td>\n",
              "      <td>NaN</td>\n",
              "      <td>NaN</td>\n",
              "      <td>NaN</td>\n",
              "      <td>NaN</td>\n",
              "    </tr>\n",
              "    <tr>\n",
              "      <th>4</th>\n",
              "      <td>2011-12-31 07:56:00</td>\n",
              "      <td>NaN</td>\n",
              "      <td>NaN</td>\n",
              "      <td>NaN</td>\n",
              "      <td>NaN</td>\n",
              "      <td>NaN</td>\n",
              "      <td>NaN</td>\n",
              "      <td>NaN</td>\n",
              "    </tr>\n",
              "  </tbody>\n",
              "</table>\n",
              "</div>"
            ],
            "text/plain": [
              "            Timestamp  Open  ...  Volume_(Currency)  Weighted_Price\n",
              "0 2011-12-31 07:52:00  4.39  ...                2.0            4.39\n",
              "1 2011-12-31 07:53:00   NaN  ...                NaN             NaN\n",
              "2 2011-12-31 07:54:00   NaN  ...                NaN             NaN\n",
              "3 2011-12-31 07:55:00   NaN  ...                NaN             NaN\n",
              "4 2011-12-31 07:56:00   NaN  ...                NaN             NaN\n",
              "\n",
              "[5 rows x 8 columns]"
            ]
          },
          "metadata": {
            "tags": []
          },
          "execution_count": 13
        }
      ]
    },
    {
      "cell_type": "code",
      "metadata": {
        "colab": {
          "base_uri": "https://localhost:8080/",
          "height": 608
        },
        "id": "-KKvjZqZl2Tr",
        "outputId": "1932ac81-f428-467d-fd80-e8ecac5cdff8"
      },
      "source": [
        "tweets_df.describe(include = 'all')"
      ],
      "execution_count": null,
      "outputs": [
        {
          "output_type": "stream",
          "text": [
            "/usr/local/lib/python3.7/dist-packages/ipykernel_launcher.py:1: FutureWarning:\n",
            "\n",
            "Treating datetime data as categorical rather than numeric in `.describe` is deprecated and will be removed in a future version of pandas. Specify `datetime_is_numeric=True` to silence this warning and adopt the future behavior now.\n",
            "\n"
          ],
          "name": "stderr"
        },
        {
          "output_type": "execute_result",
          "data": {
            "text/html": [
              "<div>\n",
              "<style scoped>\n",
              "    .dataframe tbody tr th:only-of-type {\n",
              "        vertical-align: middle;\n",
              "    }\n",
              "\n",
              "    .dataframe tbody tr th {\n",
              "        vertical-align: top;\n",
              "    }\n",
              "\n",
              "    .dataframe thead th {\n",
              "        text-align: right;\n",
              "    }\n",
              "</style>\n",
              "<table border=\"1\" class=\"dataframe\">\n",
              "  <thead>\n",
              "    <tr style=\"text-align: right;\">\n",
              "      <th></th>\n",
              "      <th>id</th>\n",
              "      <th>user</th>\n",
              "      <th>fullname</th>\n",
              "      <th>url</th>\n",
              "      <th>timestamp</th>\n",
              "      <th>replies</th>\n",
              "      <th>likes</th>\n",
              "      <th>retweets</th>\n",
              "      <th>text\\r</th>\n",
              "    </tr>\n",
              "  </thead>\n",
              "  <tbody>\n",
              "    <tr>\n",
              "      <th>count</th>\n",
              "      <td>1.688976e+07</td>\n",
              "      <td>16889764</td>\n",
              "      <td>16889186</td>\n",
              "      <td>3281819</td>\n",
              "      <td>16889765</td>\n",
              "      <td>1.688976e+07</td>\n",
              "      <td>1.688976e+07</td>\n",
              "      <td>1.688976e+07</td>\n",
              "      <td>16889765</td>\n",
              "    </tr>\n",
              "    <tr>\n",
              "      <th>unique</th>\n",
              "      <td>NaN</td>\n",
              "      <td>1453311</td>\n",
              "      <td>1330603</td>\n",
              "      <td>3276388</td>\n",
              "      <td>11127706</td>\n",
              "      <td>NaN</td>\n",
              "      <td>NaN</td>\n",
              "      <td>NaN</td>\n",
              "      <td>15221153</td>\n",
              "    </tr>\n",
              "    <tr>\n",
              "      <th>top</th>\n",
              "      <td>NaN</td>\n",
              "      <td>ProjectCoin</td>\n",
              "      <td>Project Coin</td>\n",
              "      <td>/AudioCoinBot/status/854099706875699201</td>\n",
              "      <td>2019-06-04 17:41:01+00:00</td>\n",
              "      <td>NaN</td>\n",
              "      <td>NaN</td>\n",
              "      <td>NaN</td>\n",
              "      <td>#QKC #Blockchain #BTC #ETH #blockchaintechnolo...</td>\n",
              "    </tr>\n",
              "    <tr>\n",
              "      <th>freq</th>\n",
              "      <td>NaN</td>\n",
              "      <td>146639</td>\n",
              "      <td>146641</td>\n",
              "      <td>2</td>\n",
              "      <td>102</td>\n",
              "      <td>NaN</td>\n",
              "      <td>NaN</td>\n",
              "      <td>NaN</td>\n",
              "      <td>5515</td>\n",
              "    </tr>\n",
              "    <tr>\n",
              "      <th>first</th>\n",
              "      <td>NaN</td>\n",
              "      <td>NaN</td>\n",
              "      <td>NaN</td>\n",
              "      <td>NaN</td>\n",
              "      <td>2007-04-19 07:14:38+00:00</td>\n",
              "      <td>NaN</td>\n",
              "      <td>NaN</td>\n",
              "      <td>NaN</td>\n",
              "      <td>NaN</td>\n",
              "    </tr>\n",
              "    <tr>\n",
              "      <th>last</th>\n",
              "      <td>NaN</td>\n",
              "      <td>NaN</td>\n",
              "      <td>NaN</td>\n",
              "      <td>NaN</td>\n",
              "      <td>2019-11-23 15:45:57+00:00</td>\n",
              "      <td>NaN</td>\n",
              "      <td>NaN</td>\n",
              "      <td>NaN</td>\n",
              "      <td>NaN</td>\n",
              "    </tr>\n",
              "    <tr>\n",
              "      <th>mean</th>\n",
              "      <td>1.105303e+18</td>\n",
              "      <td>NaN</td>\n",
              "      <td>NaN</td>\n",
              "      <td>NaN</td>\n",
              "      <td>NaN</td>\n",
              "      <td>3.139260e-01</td>\n",
              "      <td>2.661873e+00</td>\n",
              "      <td>1.048771e+00</td>\n",
              "      <td>NaN</td>\n",
              "    </tr>\n",
              "    <tr>\n",
              "      <th>std</th>\n",
              "      <td>1.481781e+17</td>\n",
              "      <td>NaN</td>\n",
              "      <td>NaN</td>\n",
              "      <td>NaN</td>\n",
              "      <td>NaN</td>\n",
              "      <td>2.317522e+01</td>\n",
              "      <td>1.467740e+02</td>\n",
              "      <td>8.604649e+01</td>\n",
              "      <td>NaN</td>\n",
              "    </tr>\n",
              "    <tr>\n",
              "      <th>min</th>\n",
              "      <td>3.286741e+07</td>\n",
              "      <td>NaN</td>\n",
              "      <td>NaN</td>\n",
              "      <td>NaN</td>\n",
              "      <td>NaN</td>\n",
              "      <td>0.000000e+00</td>\n",
              "      <td>0.000000e+00</td>\n",
              "      <td>0.000000e+00</td>\n",
              "      <td>NaN</td>\n",
              "    </tr>\n",
              "    <tr>\n",
              "      <th>25%</th>\n",
              "      <td>1.130709e+18</td>\n",
              "      <td>NaN</td>\n",
              "      <td>NaN</td>\n",
              "      <td>NaN</td>\n",
              "      <td>NaN</td>\n",
              "      <td>0.000000e+00</td>\n",
              "      <td>0.000000e+00</td>\n",
              "      <td>0.000000e+00</td>\n",
              "      <td>NaN</td>\n",
              "    </tr>\n",
              "    <tr>\n",
              "      <th>50%</th>\n",
              "      <td>1.151114e+18</td>\n",
              "      <td>NaN</td>\n",
              "      <td>NaN</td>\n",
              "      <td>NaN</td>\n",
              "      <td>NaN</td>\n",
              "      <td>0.000000e+00</td>\n",
              "      <td>0.000000e+00</td>\n",
              "      <td>0.000000e+00</td>\n",
              "      <td>NaN</td>\n",
              "    </tr>\n",
              "    <tr>\n",
              "      <th>75%</th>\n",
              "      <td>1.173169e+18</td>\n",
              "      <td>NaN</td>\n",
              "      <td>NaN</td>\n",
              "      <td>NaN</td>\n",
              "      <td>NaN</td>\n",
              "      <td>0.000000e+00</td>\n",
              "      <td>0.000000e+00</td>\n",
              "      <td>0.000000e+00</td>\n",
              "      <td>NaN</td>\n",
              "    </tr>\n",
              "    <tr>\n",
              "      <th>max</th>\n",
              "      <td>1.198266e+18</td>\n",
              "      <td>NaN</td>\n",
              "      <td>NaN</td>\n",
              "      <td>NaN</td>\n",
              "      <td>NaN</td>\n",
              "      <td>7.738400e+04</td>\n",
              "      <td>2.919850e+05</td>\n",
              "      <td>1.812400e+05</td>\n",
              "      <td>NaN</td>\n",
              "    </tr>\n",
              "  </tbody>\n",
              "</table>\n",
              "</div>"
            ],
            "text/plain": [
              "                  id  ...                                             text\\r\n",
              "count   1.688976e+07  ...                                           16889765\n",
              "unique           NaN  ...                                           15221153\n",
              "top              NaN  ...  #QKC #Blockchain #BTC #ETH #blockchaintechnolo...\n",
              "freq             NaN  ...                                               5515\n",
              "first            NaN  ...                                                NaN\n",
              "last             NaN  ...                                                NaN\n",
              "mean    1.105303e+18  ...                                                NaN\n",
              "std     1.481781e+17  ...                                                NaN\n",
              "min     3.286741e+07  ...                                                NaN\n",
              "25%     1.130709e+18  ...                                                NaN\n",
              "50%     1.151114e+18  ...                                                NaN\n",
              "75%     1.173169e+18  ...                                                NaN\n",
              "max     1.198266e+18  ...                                                NaN\n",
              "\n",
              "[13 rows x 9 columns]"
            ]
          },
          "metadata": {
            "tags": []
          },
          "execution_count": 14
        }
      ]
    },
    {
      "cell_type": "code",
      "metadata": {
        "colab": {
          "base_uri": "https://localhost:8080/",
          "height": 297
        },
        "id": "PGZaOrFQl2kK",
        "outputId": "49f8635b-ccb3-42c0-eaa1-ef1df15e9e9d"
      },
      "source": [
        "historical_df.describe()"
      ],
      "execution_count": null,
      "outputs": [
        {
          "output_type": "execute_result",
          "data": {
            "text/html": [
              "<div>\n",
              "<style scoped>\n",
              "    .dataframe tbody tr th:only-of-type {\n",
              "        vertical-align: middle;\n",
              "    }\n",
              "\n",
              "    .dataframe tbody tr th {\n",
              "        vertical-align: top;\n",
              "    }\n",
              "\n",
              "    .dataframe thead th {\n",
              "        text-align: right;\n",
              "    }\n",
              "</style>\n",
              "<table border=\"1\" class=\"dataframe\">\n",
              "  <thead>\n",
              "    <tr style=\"text-align: right;\">\n",
              "      <th></th>\n",
              "      <th>Open</th>\n",
              "      <th>High</th>\n",
              "      <th>Low</th>\n",
              "      <th>Close</th>\n",
              "      <th>Volume_(BTC)</th>\n",
              "      <th>Volume_(Currency)</th>\n",
              "      <th>Weighted_Price</th>\n",
              "    </tr>\n",
              "  </thead>\n",
              "  <tbody>\n",
              "    <tr>\n",
              "      <th>count</th>\n",
              "      <td>3.613769e+06</td>\n",
              "      <td>3.613769e+06</td>\n",
              "      <td>3.613769e+06</td>\n",
              "      <td>3.613769e+06</td>\n",
              "      <td>3.613769e+06</td>\n",
              "      <td>3.613769e+06</td>\n",
              "      <td>3.613769e+06</td>\n",
              "    </tr>\n",
              "    <tr>\n",
              "      <th>mean</th>\n",
              "      <td>6.009024e+03</td>\n",
              "      <td>6.013357e+03</td>\n",
              "      <td>6.004488e+03</td>\n",
              "      <td>6.009014e+03</td>\n",
              "      <td>9.323249e+00</td>\n",
              "      <td>4.176284e+04</td>\n",
              "      <td>6.008935e+03</td>\n",
              "    </tr>\n",
              "    <tr>\n",
              "      <th>std</th>\n",
              "      <td>8.996247e+03</td>\n",
              "      <td>9.003521e+03</td>\n",
              "      <td>8.988778e+03</td>\n",
              "      <td>8.996360e+03</td>\n",
              "      <td>3.054989e+01</td>\n",
              "      <td>1.518248e+05</td>\n",
              "      <td>8.995992e+03</td>\n",
              "    </tr>\n",
              "    <tr>\n",
              "      <th>min</th>\n",
              "      <td>3.800000e+00</td>\n",
              "      <td>3.800000e+00</td>\n",
              "      <td>1.500000e+00</td>\n",
              "      <td>1.500000e+00</td>\n",
              "      <td>0.000000e+00</td>\n",
              "      <td>0.000000e+00</td>\n",
              "      <td>3.800000e+00</td>\n",
              "    </tr>\n",
              "    <tr>\n",
              "      <th>25%</th>\n",
              "      <td>4.438600e+02</td>\n",
              "      <td>4.440000e+02</td>\n",
              "      <td>4.435200e+02</td>\n",
              "      <td>4.438600e+02</td>\n",
              "      <td>4.097759e-01</td>\n",
              "      <td>4.521422e+02</td>\n",
              "      <td>4.438306e+02</td>\n",
              "    </tr>\n",
              "    <tr>\n",
              "      <th>50%</th>\n",
              "      <td>3.596970e+03</td>\n",
              "      <td>3.598190e+03</td>\n",
              "      <td>3.595620e+03</td>\n",
              "      <td>3.597000e+03</td>\n",
              "      <td>1.979811e+00</td>\n",
              "      <td>3.810124e+03</td>\n",
              "      <td>3.596804e+03</td>\n",
              "    </tr>\n",
              "    <tr>\n",
              "      <th>75%</th>\n",
              "      <td>8.627270e+03</td>\n",
              "      <td>8.632980e+03</td>\n",
              "      <td>8.621090e+03</td>\n",
              "      <td>8.627160e+03</td>\n",
              "      <td>7.278216e+00</td>\n",
              "      <td>2.569821e+04</td>\n",
              "      <td>8.627637e+03</td>\n",
              "    </tr>\n",
              "    <tr>\n",
              "      <th>max</th>\n",
              "      <td>6.176356e+04</td>\n",
              "      <td>6.178183e+04</td>\n",
              "      <td>6.167355e+04</td>\n",
              "      <td>6.178180e+04</td>\n",
              "      <td>5.853852e+03</td>\n",
              "      <td>1.390067e+07</td>\n",
              "      <td>6.171621e+04</td>\n",
              "    </tr>\n",
              "  </tbody>\n",
              "</table>\n",
              "</div>"
            ],
            "text/plain": [
              "               Open          High  ...  Volume_(Currency)  Weighted_Price\n",
              "count  3.613769e+06  3.613769e+06  ...       3.613769e+06    3.613769e+06\n",
              "mean   6.009024e+03  6.013357e+03  ...       4.176284e+04    6.008935e+03\n",
              "std    8.996247e+03  9.003521e+03  ...       1.518248e+05    8.995992e+03\n",
              "min    3.800000e+00  3.800000e+00  ...       0.000000e+00    3.800000e+00\n",
              "25%    4.438600e+02  4.440000e+02  ...       4.521422e+02    4.438306e+02\n",
              "50%    3.596970e+03  3.598190e+03  ...       3.810124e+03    3.596804e+03\n",
              "75%    8.627270e+03  8.632980e+03  ...       2.569821e+04    8.627637e+03\n",
              "max    6.176356e+04  6.178183e+04  ...       1.390067e+07    6.171621e+04\n",
              "\n",
              "[8 rows x 7 columns]"
            ]
          },
          "metadata": {
            "tags": []
          },
          "execution_count": 15
        }
      ]
    },
    {
      "cell_type": "code",
      "metadata": {
        "colab": {
          "base_uri": "https://localhost:8080/"
        },
        "id": "Y07GRbvelo3u",
        "outputId": "e7045169-4beb-4667-dc1e-638605c80f71"
      },
      "source": [
        "tweets_df.isnull().sum()"
      ],
      "execution_count": null,
      "outputs": [
        {
          "output_type": "execute_result",
          "data": {
            "text/plain": [
              "id                  0\n",
              "user                1\n",
              "fullname          579\n",
              "url          13607946\n",
              "timestamp           0\n",
              "replies             0\n",
              "likes               0\n",
              "retweets            0\n",
              "text\\r              0\n",
              "dtype: int64"
            ]
          },
          "metadata": {
            "tags": []
          },
          "execution_count": 16
        }
      ]
    },
    {
      "cell_type": "code",
      "metadata": {
        "colab": {
          "base_uri": "https://localhost:8080/"
        },
        "id": "R_5aSjd9loo_",
        "outputId": "d010b42d-a6aa-41b5-95f2-bbc8cb8fecb2"
      },
      "source": [
        "historical_df.isnull().sum()"
      ],
      "execution_count": null,
      "outputs": [
        {
          "output_type": "execute_result",
          "data": {
            "text/plain": [
              "Timestamp                  0\n",
              "Open                 1243608\n",
              "High                 1243608\n",
              "Low                  1243608\n",
              "Close                1243608\n",
              "Volume_(BTC)         1243608\n",
              "Volume_(Currency)    1243608\n",
              "Weighted_Price       1243608\n",
              "dtype: int64"
            ]
          },
          "metadata": {
            "tags": []
          },
          "execution_count": 17
        }
      ]
    },
    {
      "cell_type": "code",
      "metadata": {
        "id": "zX7IWFtzvtcy"
      },
      "source": [
        "tweets_df.drop(labels = 'url', axis = 1, inplace = True)"
      ],
      "execution_count": null,
      "outputs": []
    },
    {
      "cell_type": "code",
      "metadata": {
        "id": "wdjYlphzmlEB"
      },
      "source": [
        "historical_df.dropna(inplace = True)\n",
        "historical_df.reset_index(drop = True, inplace = True)"
      ],
      "execution_count": null,
      "outputs": []
    },
    {
      "cell_type": "code",
      "metadata": {
        "id": "tl52bg5TmrUO",
        "colab": {
          "base_uri": "https://localhost:8080/",
          "height": 204
        },
        "outputId": "ff492945-288c-48fd-c6f5-4fa388116746"
      },
      "source": [
        "historical_df.head()"
      ],
      "execution_count": null,
      "outputs": [
        {
          "output_type": "execute_result",
          "data": {
            "text/html": [
              "<div>\n",
              "<style scoped>\n",
              "    .dataframe tbody tr th:only-of-type {\n",
              "        vertical-align: middle;\n",
              "    }\n",
              "\n",
              "    .dataframe tbody tr th {\n",
              "        vertical-align: top;\n",
              "    }\n",
              "\n",
              "    .dataframe thead th {\n",
              "        text-align: right;\n",
              "    }\n",
              "</style>\n",
              "<table border=\"1\" class=\"dataframe\">\n",
              "  <thead>\n",
              "    <tr style=\"text-align: right;\">\n",
              "      <th></th>\n",
              "      <th>Timestamp</th>\n",
              "      <th>Open</th>\n",
              "      <th>High</th>\n",
              "      <th>Low</th>\n",
              "      <th>Close</th>\n",
              "      <th>Volume_(BTC)</th>\n",
              "      <th>Volume_(Currency)</th>\n",
              "      <th>Weighted_Price</th>\n",
              "    </tr>\n",
              "  </thead>\n",
              "  <tbody>\n",
              "    <tr>\n",
              "      <th>0</th>\n",
              "      <td>2011-12-31 07:52:00</td>\n",
              "      <td>4.39</td>\n",
              "      <td>4.39</td>\n",
              "      <td>4.39</td>\n",
              "      <td>4.39</td>\n",
              "      <td>0.455581</td>\n",
              "      <td>2.000000</td>\n",
              "      <td>4.390000</td>\n",
              "    </tr>\n",
              "    <tr>\n",
              "      <th>1</th>\n",
              "      <td>2011-12-31 15:50:00</td>\n",
              "      <td>4.39</td>\n",
              "      <td>4.39</td>\n",
              "      <td>4.39</td>\n",
              "      <td>4.39</td>\n",
              "      <td>48.000000</td>\n",
              "      <td>210.720000</td>\n",
              "      <td>4.390000</td>\n",
              "    </tr>\n",
              "    <tr>\n",
              "      <th>2</th>\n",
              "      <td>2011-12-31 16:59:00</td>\n",
              "      <td>4.50</td>\n",
              "      <td>4.57</td>\n",
              "      <td>4.50</td>\n",
              "      <td>4.57</td>\n",
              "      <td>37.862297</td>\n",
              "      <td>171.380338</td>\n",
              "      <td>4.526411</td>\n",
              "    </tr>\n",
              "    <tr>\n",
              "      <th>3</th>\n",
              "      <td>2011-12-31 17:00:00</td>\n",
              "      <td>4.58</td>\n",
              "      <td>4.58</td>\n",
              "      <td>4.58</td>\n",
              "      <td>4.58</td>\n",
              "      <td>9.000000</td>\n",
              "      <td>41.220000</td>\n",
              "      <td>4.580000</td>\n",
              "    </tr>\n",
              "    <tr>\n",
              "      <th>4</th>\n",
              "      <td>2012-01-01 04:16:00</td>\n",
              "      <td>4.58</td>\n",
              "      <td>4.58</td>\n",
              "      <td>4.58</td>\n",
              "      <td>4.58</td>\n",
              "      <td>1.502000</td>\n",
              "      <td>6.879160</td>\n",
              "      <td>4.580000</td>\n",
              "    </tr>\n",
              "  </tbody>\n",
              "</table>\n",
              "</div>"
            ],
            "text/plain": [
              "            Timestamp  Open  ...  Volume_(Currency)  Weighted_Price\n",
              "0 2011-12-31 07:52:00  4.39  ...           2.000000        4.390000\n",
              "1 2011-12-31 15:50:00  4.39  ...         210.720000        4.390000\n",
              "2 2011-12-31 16:59:00  4.50  ...         171.380338        4.526411\n",
              "3 2011-12-31 17:00:00  4.58  ...          41.220000        4.580000\n",
              "4 2012-01-01 04:16:00  4.58  ...           6.879160        4.580000\n",
              "\n",
              "[5 rows x 8 columns]"
            ]
          },
          "metadata": {
            "tags": []
          },
          "execution_count": 20
        }
      ]
    },
    {
      "cell_type": "markdown",
      "metadata": {
        "id": "EGJ69j4vp3wA"
      },
      "source": [
        "## Step 1.2: Exploring Bitcoin Tweets"
      ]
    },
    {
      "cell_type": "code",
      "metadata": {
        "colab": {
          "base_uri": "https://localhost:8080/",
          "height": 295
        },
        "id": "zfwnvSdLurYB",
        "outputId": "fd49658c-0d55-40c3-9ac6-ac553f231663"
      },
      "source": [
        "plt.hist(tweets_df[tweets_df['text\\r'].str.len() <= 280]['text\\r'].str.len())\n",
        "plt.title('Length of Bitcoin Tweets')\n",
        "plt.xlabel('Characters')\n",
        "plt.ylabel('Count')\n",
        "plt.show()"
      ],
      "execution_count": null,
      "outputs": [
        {
          "output_type": "display_data",
          "data": {
            "image/png": "[encoded data removed]",
            "text/plain": [
              "<Figure size 432x288 with 1 Axes>"
            ]
          },
          "metadata": {
            "tags": [],
            "needs_background": "light"
          }
        }
      ]
    },
    {
      "cell_type": "code",
      "metadata": {
        "colab": {
          "base_uri": "https://localhost:8080/",
          "height": 295
        },
        "id": "fOp-L1QBsPtV",
        "outputId": "bec05467-316c-47b9-f677-0b1a00e93478"
      },
      "source": [
        "plt.hist(tweets_df['replies'])\n",
        "plt.title('Bitcoin Tweets: Replies')\n",
        "plt.xlabel('Replies')\n",
        "plt.ylabel('Count')\n",
        "plt.show()"
      ],
      "execution_count": null,
      "outputs": [
        {
          "output_type": "display_data",
          "data": {
            "image/png": "[encoded data removed]",
            "text/plain": [
              "<Figure size 432x288 with 1 Axes>"
            ]
          },
          "metadata": {
            "tags": [],
            "needs_background": "light"
          }
        }
      ]
    },
    {
      "cell_type": "code",
      "metadata": {
        "id": "UENwSpGUp4CM",
        "colab": {
          "base_uri": "https://localhost:8080/",
          "height": 295
        },
        "outputId": "88ab78b1-baa7-4838-a710-bf8f03d4525d"
      },
      "source": [
        "plt.hist(tweets_df[tweets_df['replies'] < 5]['replies'])\n",
        "plt.title('Bitcoin Tweets: Replies < 5')\n",
        "plt.xlabel('Replies')\n",
        "plt.ylabel('Count')\n",
        "plt.show()"
      ],
      "execution_count": null,
      "outputs": [
        {
          "output_type": "display_data",
          "data": {
            "image/png": "[encoded data removed]",
            "text/plain": [
              "<Figure size 432x288 with 1 Axes>"
            ]
          },
          "metadata": {
            "tags": [],
            "needs_background": "light"
          }
        }
      ]
    },
    {
      "cell_type": "code",
      "metadata": {
        "colab": {
          "base_uri": "https://localhost:8080/",
          "height": 295
        },
        "id": "IfO9YqALuVoh",
        "outputId": "811ed3fc-8507-4996-b734-6277a25f12df"
      },
      "source": [
        "plt.hist(tweets_df['likes'])\n",
        "plt.title('Bitcoin Tweets: Likes')\n",
        "plt.xlabel('Likes')\n",
        "plt.ylabel('Count')\n",
        "plt.show()"
      ],
      "execution_count": null,
      "outputs": [
        {
          "output_type": "display_data",
          "data": {
            "image/png": "[encoded data removed]",
            "text/plain": [
              "<Figure size 432x288 with 1 Axes>"
            ]
          },
          "metadata": {
            "tags": [],
            "needs_background": "light"
          }
        }
      ]
    },
    {
      "cell_type": "code",
      "metadata": {
        "colab": {
          "base_uri": "https://localhost:8080/",
          "height": 295
        },
        "id": "R2Gy2vetuVoq",
        "outputId": "1a21e439-15fa-4f74-be4e-37820001d634"
      },
      "source": [
        "plt.hist(tweets_df[tweets_df['likes'] < 5]['likes'])\n",
        "plt.title('Bitcoin Tweets: Likes < 5')\n",
        "plt.xlabel('likes')\n",
        "plt.ylabel('Count')\n",
        "plt.show()"
      ],
      "execution_count": null,
      "outputs": [
        {
          "output_type": "display_data",
          "data": {
            "image/png": "[encoded data removed]",
            "text/plain": [
              "<Figure size 432x288 with 1 Axes>"
            ]
          },
          "metadata": {
            "tags": [],
            "needs_background": "light"
          }
        }
      ]
    },
    {
      "cell_type": "code",
      "metadata": {
        "colab": {
          "base_uri": "https://localhost:8080/",
          "height": 295
        },
        "id": "UhBAMm3ys1hJ",
        "outputId": "faa1758e-e1e3-4d10-c799-a4e3d6c0601f"
      },
      "source": [
        "plt.hist(tweets_df['retweets'])\n",
        "plt.title('Bitcoin Tweets: Retweets')\n",
        "plt.xlabel('Retweets')\n",
        "plt.ylabel('Count')\n",
        "plt.show()"
      ],
      "execution_count": null,
      "outputs": [
        {
          "output_type": "display_data",
          "data": {
            "image/png": "[encoded data removed]",
            "text/plain": [
              "<Figure size 432x288 with 1 Axes>"
            ]
          },
          "metadata": {
            "tags": [],
            "needs_background": "light"
          }
        }
      ]
    },
    {
      "cell_type": "code",
      "metadata": {
        "colab": {
          "base_uri": "https://localhost:8080/",
          "height": 295
        },
        "id": "5hws4hyStjZh",
        "outputId": "0384736e-208b-43fd-ae87-caa845e241ad"
      },
      "source": [
        "plt.hist(tweets_df[tweets_df['retweets'] < 5]['retweets'])\n",
        "plt.title('Bitcoin Tweets: Retweets < 5')\n",
        "plt.xlabel('Retweets')\n",
        "plt.ylabel('Count')\n",
        "plt.show()"
      ],
      "execution_count": null,
      "outputs": [
        {
          "output_type": "display_data",
          "data": {
            "image/png": "[encoded data removed]",
            "text/plain": [
              "<Figure size 432x288 with 1 Axes>"
            ]
          },
          "metadata": {
            "tags": [],
            "needs_background": "light"
          }
        }
      ]
    },
    {
      "cell_type": "markdown",
      "metadata": {
        "id": "M2klYE9hp4Wk"
      },
      "source": [
        "## Step 1.3: Exploring Historical Bitcoin Prices"
      ]
    },
    {
      "cell_type": "code",
      "metadata": {
        "id": "QbK21-jRp4uL",
        "colab": {
          "base_uri": "https://localhost:8080/",
          "height": 295
        },
        "outputId": "899017c8-f811-4e0c-ba04-5b3aa3d77913"
      },
      "source": [
        "plt.plot(historical_df['Timestamp'], historical_df['Close'])\n",
        "plt.title('Bitcoin Closing Prices')\n",
        "plt.xlabel('Time')\n",
        "plt.ylabel('Price')\n",
        "plt.show()"
      ],
      "execution_count": null,
      "outputs": [
        {
          "output_type": "display_data",
          "data": {
            "image/png": "[encoded data removed]",
            "text/plain": [
              "<Figure size 432x288 with 1 Axes>"
            ]
          },
          "metadata": {
            "tags": [],
            "needs_background": "light"
          }
        }
      ]
    },
    {
      "cell_type": "code",
      "metadata": {
        "colab": {
          "base_uri": "https://localhost:8080/",
          "height": 295
        },
        "id": "iLND91aj1hFx",
        "outputId": "63461501-56d8-4dc5-dc9d-03f55c8fa8bf"
      },
      "source": [
        "plt.plot(historical_df['Timestamp'], historical_df['Volume_(BTC)'])\n",
        "plt.title('Bitcoin Volume')\n",
        "plt.xlabel('Time')\n",
        "plt.ylabel('Volume')\n",
        "plt.show()"
      ],
      "execution_count": null,
      "outputs": [
        {
          "output_type": "display_data",
          "data": {
            "image/png": "[encoded data removed]",
            "text/plain": [
              "<Figure size 432x288 with 1 Axes>"
            ]
          },
          "metadata": {
            "tags": [],
            "needs_background": "light"
          }
        }
      ]
    },
    {
      "cell_type": "code",
      "metadata": {
        "colab": {
          "base_uri": "https://localhost:8080/",
          "height": 419
        },
        "id": "2sPE24Jv8_IL",
        "outputId": "c0534691-c598-415f-b76d-aa507b086a29"
      },
      "source": [
        "historical_df"
      ],
      "execution_count": null,
      "outputs": [
        {
          "output_type": "execute_result",
          "data": {
            "text/html": [
              "<div>\n",
              "<style scoped>\n",
              "    .dataframe tbody tr th:only-of-type {\n",
              "        vertical-align: middle;\n",
              "    }\n",
              "\n",
              "    .dataframe tbody tr th {\n",
              "        vertical-align: top;\n",
              "    }\n",
              "\n",
              "    .dataframe thead th {\n",
              "        text-align: right;\n",
              "    }\n",
              "</style>\n",
              "<table border=\"1\" class=\"dataframe\">\n",
              "  <thead>\n",
              "    <tr style=\"text-align: right;\">\n",
              "      <th></th>\n",
              "      <th>Timestamp</th>\n",
              "      <th>Open</th>\n",
              "      <th>High</th>\n",
              "      <th>Low</th>\n",
              "      <th>Close</th>\n",
              "      <th>Volume_(BTC)</th>\n",
              "      <th>Volume_(Currency)</th>\n",
              "      <th>Weighted_Price</th>\n",
              "    </tr>\n",
              "  </thead>\n",
              "  <tbody>\n",
              "    <tr>\n",
              "      <th>0</th>\n",
              "      <td>2011-12-31 07:52:00</td>\n",
              "      <td>4.39</td>\n",
              "      <td>4.39</td>\n",
              "      <td>4.39</td>\n",
              "      <td>4.39</td>\n",
              "      <td>0.455581</td>\n",
              "      <td>2.000000</td>\n",
              "      <td>4.390000</td>\n",
              "    </tr>\n",
              "    <tr>\n",
              "      <th>1</th>\n",
              "      <td>2011-12-31 15:50:00</td>\n",
              "      <td>4.39</td>\n",
              "      <td>4.39</td>\n",
              "      <td>4.39</td>\n",
              "      <td>4.39</td>\n",
              "      <td>48.000000</td>\n",
              "      <td>210.720000</td>\n",
              "      <td>4.390000</td>\n",
              "    </tr>\n",
              "    <tr>\n",
              "      <th>2</th>\n",
              "      <td>2011-12-31 16:59:00</td>\n",
              "      <td>4.50</td>\n",
              "      <td>4.57</td>\n",
              "      <td>4.50</td>\n",
              "      <td>4.57</td>\n",
              "      <td>37.862297</td>\n",
              "      <td>171.380338</td>\n",
              "      <td>4.526411</td>\n",
              "    </tr>\n",
              "    <tr>\n",
              "      <th>3</th>\n",
              "      <td>2011-12-31 17:00:00</td>\n",
              "      <td>4.58</td>\n",
              "      <td>4.58</td>\n",
              "      <td>4.58</td>\n",
              "      <td>4.58</td>\n",
              "      <td>9.000000</td>\n",
              "      <td>41.220000</td>\n",
              "      <td>4.580000</td>\n",
              "    </tr>\n",
              "    <tr>\n",
              "      <th>4</th>\n",
              "      <td>2012-01-01 04:16:00</td>\n",
              "      <td>4.58</td>\n",
              "      <td>4.58</td>\n",
              "      <td>4.58</td>\n",
              "      <td>4.58</td>\n",
              "      <td>1.502000</td>\n",
              "      <td>6.879160</td>\n",
              "      <td>4.580000</td>\n",
              "    </tr>\n",
              "    <tr>\n",
              "      <th>...</th>\n",
              "      <td>...</td>\n",
              "      <td>...</td>\n",
              "      <td>...</td>\n",
              "      <td>...</td>\n",
              "      <td>...</td>\n",
              "      <td>...</td>\n",
              "      <td>...</td>\n",
              "      <td>...</td>\n",
              "    </tr>\n",
              "    <tr>\n",
              "      <th>3613764</th>\n",
              "      <td>2021-03-30 23:56:00</td>\n",
              "      <td>58714.31</td>\n",
              "      <td>58714.31</td>\n",
              "      <td>58686.00</td>\n",
              "      <td>58686.00</td>\n",
              "      <td>1.384487</td>\n",
              "      <td>81259.372187</td>\n",
              "      <td>58692.753339</td>\n",
              "    </tr>\n",
              "    <tr>\n",
              "      <th>3613765</th>\n",
              "      <td>2021-03-30 23:57:00</td>\n",
              "      <td>58683.97</td>\n",
              "      <td>58693.43</td>\n",
              "      <td>58683.97</td>\n",
              "      <td>58685.81</td>\n",
              "      <td>7.294848</td>\n",
              "      <td>428158.146640</td>\n",
              "      <td>58693.226508</td>\n",
              "    </tr>\n",
              "    <tr>\n",
              "      <th>3613766</th>\n",
              "      <td>2021-03-30 23:58:00</td>\n",
              "      <td>58693.43</td>\n",
              "      <td>58723.84</td>\n",
              "      <td>58693.43</td>\n",
              "      <td>58723.84</td>\n",
              "      <td>1.705682</td>\n",
              "      <td>100117.070370</td>\n",
              "      <td>58696.198496</td>\n",
              "    </tr>\n",
              "    <tr>\n",
              "      <th>3613767</th>\n",
              "      <td>2021-03-30 23:59:00</td>\n",
              "      <td>58742.18</td>\n",
              "      <td>58770.38</td>\n",
              "      <td>58742.18</td>\n",
              "      <td>58760.59</td>\n",
              "      <td>0.720415</td>\n",
              "      <td>42332.958633</td>\n",
              "      <td>58761.866202</td>\n",
              "    </tr>\n",
              "    <tr>\n",
              "      <th>3613768</th>\n",
              "      <td>2021-03-31 00:00:00</td>\n",
              "      <td>58767.75</td>\n",
              "      <td>58778.18</td>\n",
              "      <td>58755.97</td>\n",
              "      <td>58778.18</td>\n",
              "      <td>2.712831</td>\n",
              "      <td>159417.751000</td>\n",
              "      <td>58764.349363</td>\n",
              "    </tr>\n",
              "  </tbody>\n",
              "</table>\n",
              "<p>3613769 rows × 8 columns</p>\n",
              "</div>"
            ],
            "text/plain": [
              "                  Timestamp      Open  ...  Volume_(Currency)  Weighted_Price\n",
              "0       2011-12-31 07:52:00      4.39  ...           2.000000        4.390000\n",
              "1       2011-12-31 15:50:00      4.39  ...         210.720000        4.390000\n",
              "2       2011-12-31 16:59:00      4.50  ...         171.380338        4.526411\n",
              "3       2011-12-31 17:00:00      4.58  ...          41.220000        4.580000\n",
              "4       2012-01-01 04:16:00      4.58  ...           6.879160        4.580000\n",
              "...                     ...       ...  ...                ...             ...\n",
              "3613764 2021-03-30 23:56:00  58714.31  ...       81259.372187    58692.753339\n",
              "3613765 2021-03-30 23:57:00  58683.97  ...      428158.146640    58693.226508\n",
              "3613766 2021-03-30 23:58:00  58693.43  ...      100117.070370    58696.198496\n",
              "3613767 2021-03-30 23:59:00  58742.18  ...       42332.958633    58761.866202\n",
              "3613768 2021-03-31 00:00:00  58767.75  ...      159417.751000    58764.349363\n",
              "\n",
              "[3613769 rows x 8 columns]"
            ]
          },
          "metadata": {
            "tags": []
          },
          "execution_count": 30
        }
      ]
    },
    {
      "cell_type": "markdown",
      "metadata": {
        "id": "bTHLXcd6HA7k"
      },
      "source": [
        "## Step 1.4: Exploring Tweet Sentiments"
      ]
    },
    {
      "cell_type": "code",
      "metadata": {
        "id": "9fl-6zcNHH1i"
      },
      "source": [
        "import nltk\n",
        "import textblob\n",
        "import re"
      ],
      "execution_count": null,
      "outputs": []
    },
    {
      "cell_type": "markdown",
      "metadata": {
        "id": "9RDlXI8xAGJP"
      },
      "source": [
        "### Cleaning Tweets"
      ]
    },
    {
      "cell_type": "code",
      "metadata": {
        "colab": {
          "base_uri": "https://localhost:8080/"
        },
        "id": "FLVDynRVUA7y",
        "outputId": "05b1a494-4cf0-4ba9-c968-e5ff32200af1"
      },
      "source": [
        "!pip install whatthelang"
      ],
      "execution_count": null,
      "outputs": [
        {
          "output_type": "stream",
          "text": [
            "Collecting whatthelang\n",
            "\u001b[?25l  Downloading https://files.pythonhosted.org/packages/8a/28/2abb6e71271e91eaf67fc2279f1abbae3a0200122c71fb1db518717909ae/whatthelang-1.0.1.tar.gz (786kB)\n",
            "\u001b[K     |████████████████████████████████| 788kB 6.0MB/s \n",
            "\u001b[?25hRequirement already satisfied: Cython in /usr/local/lib/python3.7/dist-packages (from whatthelang) (0.29.22)\n",
            "Collecting cysignals\n",
            "\u001b[?25l  Downloading https://files.pythonhosted.org/packages/c5/fc/0307a46e79ad4423975554438df12c3a0dd8b93f9aeeb3a6ca7b2c6595f1/cysignals-1.10.3.tar.gz (455kB)\n",
            "\u001b[K     |████████████████████████████████| 460kB 10.4MB/s \n",
            "\u001b[?25hCollecting pyfasttext\n",
            "\u001b[?25l  Downloading https://files.pythonhosted.org/packages/f5/ef/90606442481d1e4ab10eba8c2b2c449ceaa70c60e9b8d5898bb7504e3634/pyfasttext-0.4.6.tar.gz (244kB)\n",
            "\u001b[K     |████████████████████████████████| 245kB 17.1MB/s \n",
            "\u001b[?25hRequirement already satisfied: future in /usr/local/lib/python3.7/dist-packages (from pyfasttext->whatthelang) (0.16.0)\n",
            "Requirement already satisfied: numpy in /usr/local/lib/python3.7/dist-packages (from pyfasttext->whatthelang) (1.19.5)\n",
            "Building wheels for collected packages: whatthelang, cysignals, pyfasttext\n",
            "  Building wheel for whatthelang (setup.py) ... \u001b[?25l\u001b[?25hdone\n",
            "  Created wheel for whatthelang: filename=whatthelang-1.0.1-cp37-none-any.whl size=789774 sha256=aab15753566d745e9f750d9cf14652b33d755817c8853ac425d79430f88c8a50\n",
            "  Stored in directory: /root/.cache/pip/wheels/54/ec/de/379ea04fcc427c46fe3ecd21a5041875fcb41bbd81062abba5\n",
            "  Building wheel for cysignals (setup.py) ... \u001b[?25l\u001b[?25hdone\n",
            "  Created wheel for cysignals: filename=cysignals-1.10.3-cp37-cp37m-linux_x86_64.whl size=706031 sha256=cf5f1ac21e737cffeb25581ebe10dd06fa5ff8a8b05664f0da5c22e55d249127\n",
            "  Stored in directory: /root/.cache/pip/wheels/1d/de/c9/22c3a5adc6ff0dd19904d4cab0677410e53f4fdd42188ae123\n",
            "  Building wheel for pyfasttext (setup.py) ... \u001b[?25l\u001b[?25hdone\n",
            "  Created wheel for pyfasttext: filename=pyfasttext-0.4.6-cp37-cp37m-linux_x86_64.whl size=1458698 sha256=610dbde862303297d415a05915b7b1b367069788327694bed6dc873d3aad8157\n",
            "  Stored in directory: /root/.cache/pip/wheels/25/de/c6/3d26a304c069689a7bf5ef2cc774588663700c8381dbf3d947\n",
            "Successfully built whatthelang cysignals pyfasttext\n",
            "Installing collected packages: cysignals, pyfasttext, whatthelang\n",
            "Successfully installed cysignals-1.10.3 pyfasttext-0.4.6 whatthelang-1.0.1\n"
          ],
          "name": "stdout"
        }
      ]
    },
    {
      "cell_type": "code",
      "metadata": {
        "id": "Lo5JGRBCX6h0"
      },
      "source": [
        "tweets_sample = tweets_df.sample(frac=0.005, replace=False, random_state=1)"
      ],
      "execution_count": null,
      "outputs": []
    },
    {
      "cell_type": "code",
      "metadata": {
        "colab": {
          "base_uri": "https://localhost:8080/",
          "height": 725
        },
        "id": "boeLInm7UCT7",
        "outputId": "1b80de6a-e2f6-4afc-dc15-6decce92dc14"
      },
      "source": [
        "from whatthelang import WhatTheLang\n",
        "lang_detector = WhatTheLang()\n",
        "\n",
        "tweets_sample['lang'] = tweets_sample['text\\r'].apply(lambda x: lang_detector.predict_lang(x))\n",
        "tweets_sample = tweets_sample[tweets_sample['lang'] == 'en'] # removing non-English tweets for our sentiment analysis\n",
        "tweets_sample"
      ],
      "execution_count": null,
      "outputs": [
        {
          "output_type": "execute_result",
          "data": {
            "text/html": [
              "<div>\n",
              "<style scoped>\n",
              "    .dataframe tbody tr th:only-of-type {\n",
              "        vertical-align: middle;\n",
              "    }\n",
              "\n",
              "    .dataframe tbody tr th {\n",
              "        vertical-align: top;\n",
              "    }\n",
              "\n",
              "    .dataframe thead th {\n",
              "        text-align: right;\n",
              "    }\n",
              "</style>\n",
              "<table border=\"1\" class=\"dataframe\">\n",
              "  <thead>\n",
              "    <tr style=\"text-align: right;\">\n",
              "      <th></th>\n",
              "      <th>id</th>\n",
              "      <th>user</th>\n",
              "      <th>fullname</th>\n",
              "      <th>timestamp</th>\n",
              "      <th>replies</th>\n",
              "      <th>likes</th>\n",
              "      <th>retweets</th>\n",
              "      <th>text\\r</th>\n",
              "      <th>lang</th>\n",
              "    </tr>\n",
              "  </thead>\n",
              "  <tbody>\n",
              "    <tr>\n",
              "      <th>9127814</th>\n",
              "      <td>1.154495e+18</td>\n",
              "      <td>workwithai</td>\n",
              "      <td>Jobs In AI</td>\n",
              "      <td>2019-07-25 20:54:29+00:00</td>\n",
              "      <td>0</td>\n",
              "      <td>0</td>\n",
              "      <td>0</td>\n",
              "      <td>Web Design - OSR Recruitment ( Lowestoft, Unit...</td>\n",
              "      <td>en</td>\n",
              "    </tr>\n",
              "    <tr>\n",
              "      <th>12826604</th>\n",
              "      <td>1.174088e+18</td>\n",
              "      <td>crypto__mak</td>\n",
              "      <td>Crypto Mak 🌐</td>\n",
              "      <td>2019-09-17 22:28:02+00:00</td>\n",
              "      <td>0</td>\n",
              "      <td>0</td>\n",
              "      <td>1</td>\n",
              "      <td>‘Master’ of Alternative Investments Doesn’t Ha...</td>\n",
              "      <td>en</td>\n",
              "    </tr>\n",
              "    <tr>\n",
              "      <th>10064952</th>\n",
              "      <td>1.158807e+18</td>\n",
              "      <td>Maclovin6618</td>\n",
              "      <td>Maclovin</td>\n",
              "      <td>2019-08-06 18:30:09+00:00</td>\n",
              "      <td>0</td>\n",
              "      <td>0</td>\n",
              "      <td>0</td>\n",
              "      <td>@Eljaboom @Ripple @MoneyGram What if the baby ...</td>\n",
              "      <td>en</td>\n",
              "    </tr>\n",
              "    <tr>\n",
              "      <th>10311092</th>\n",
              "      <td>1.160107e+18</td>\n",
              "      <td>pemilijan</td>\n",
              "      <td>Polyn Emilijan</td>\n",
              "      <td>2019-08-10 08:31:59+00:00</td>\n",
              "      <td>0</td>\n",
              "      <td>0</td>\n",
              "      <td>0</td>\n",
              "      <td>Buy/Sell altcoin changes with up to 100x Lever...</td>\n",
              "      <td>en</td>\n",
              "    </tr>\n",
              "    <tr>\n",
              "      <th>8000220</th>\n",
              "      <td>1.149214e+18</td>\n",
              "      <td>ttcsalam93</td>\n",
              "      <td>ttcsalam</td>\n",
              "      <td>2019-07-11 07:09:49+00:00</td>\n",
              "      <td>0</td>\n",
              "      <td>0</td>\n",
              "      <td>0</td>\n",
              "      <td>#Drife #IEO #Crypto  #Blockchain  #ethereum #b...</td>\n",
              "      <td>en</td>\n",
              "    </tr>\n",
              "    <tr>\n",
              "      <th>...</th>\n",
              "      <td>...</td>\n",
              "      <td>...</td>\n",
              "      <td>...</td>\n",
              "      <td>...</td>\n",
              "      <td>...</td>\n",
              "      <td>...</td>\n",
              "      <td>...</td>\n",
              "      <td>...</td>\n",
              "      <td>...</td>\n",
              "    </tr>\n",
              "    <tr>\n",
              "      <th>5978872</th>\n",
              "      <td>1.140142e+18</td>\n",
              "      <td>DigiAdExpert</td>\n",
              "      <td>DA Exp</td>\n",
              "      <td>2019-06-16 06:18:34+00:00</td>\n",
              "      <td>0</td>\n",
              "      <td>0</td>\n",
              "      <td>0</td>\n",
              "      <td>This is the best project I've ever seen on the...</td>\n",
              "      <td>en</td>\n",
              "    </tr>\n",
              "    <tr>\n",
              "      <th>663045</th>\n",
              "      <td>1.129280e+18</td>\n",
              "      <td>top_3_coin</td>\n",
              "      <td>Top 3 Coin</td>\n",
              "      <td>2019-05-17 05:00:01+00:00</td>\n",
              "      <td>0</td>\n",
              "      <td>0</td>\n",
              "      <td>0</td>\n",
              "      <td>Bitcoin (#BTC) price (-0.04): \\n$7,273.15 \\nRp...</td>\n",
              "      <td>en</td>\n",
              "    </tr>\n",
              "    <tr>\n",
              "      <th>478265</th>\n",
              "      <td>1.128551e+18</td>\n",
              "      <td>BitcoinsStar</td>\n",
              "      <td>Arab Investment</td>\n",
              "      <td>2019-05-15 04:42:04+00:00</td>\n",
              "      <td>0</td>\n",
              "      <td>0</td>\n",
              "      <td>0</td>\n",
              "      <td>good project\\nVery strong project 💪\\n@ABillion...</td>\n",
              "      <td>en</td>\n",
              "    </tr>\n",
              "    <tr>\n",
              "      <th>4942526</th>\n",
              "      <td>1.134156e+18</td>\n",
              "      <td>coinspectator</td>\n",
              "      <td>Coin Spectator - Real-time cryptocurrency news</td>\n",
              "      <td>2019-05-30 17:52:56+00:00</td>\n",
              "      <td>0</td>\n",
              "      <td>0</td>\n",
              "      <td>0</td>\n",
              "      <td>Another Aspiring Satoshi Copyrights the Bitcoi...</td>\n",
              "      <td>en</td>\n",
              "    </tr>\n",
              "    <tr>\n",
              "      <th>16339117</th>\n",
              "      <td>1.195125e+18</td>\n",
              "      <td>teethdreamZ</td>\n",
              "      <td>+€€+hdr€/\\mZ</td>\n",
              "      <td>2019-11-14 23:42:23+00:00</td>\n",
              "      <td>0</td>\n",
              "      <td>0</td>\n",
              "      <td>0</td>\n",
              "      <td>@BrianWidin with his bitcoin.\\r</td>\n",
              "      <td>en</td>\n",
              "    </tr>\n",
              "  </tbody>\n",
              "</table>\n",
              "<p>65317 rows × 9 columns</p>\n",
              "</div>"
            ],
            "text/plain": [
              "                    id  ... lang\n",
              "9127814   1.154495e+18  ...   en\n",
              "12826604  1.174088e+18  ...   en\n",
              "10064952  1.158807e+18  ...   en\n",
              "10311092  1.160107e+18  ...   en\n",
              "8000220   1.149214e+18  ...   en\n",
              "...                ...  ...  ...\n",
              "5978872   1.140142e+18  ...   en\n",
              "663045    1.129280e+18  ...   en\n",
              "478265    1.128551e+18  ...   en\n",
              "4942526   1.134156e+18  ...   en\n",
              "16339117  1.195125e+18  ...   en\n",
              "\n",
              "[65317 rows x 9 columns]"
            ]
          },
          "metadata": {
            "tags": []
          },
          "execution_count": 34
        }
      ]
    },
    {
      "cell_type": "markdown",
      "metadata": {
        "id": "ed5O942uAMJT"
      },
      "source": [
        "### Sentiment Analysis"
      ]
    },
    {
      "cell_type": "code",
      "metadata": {
        "colab": {
          "base_uri": "https://localhost:8080/"
        },
        "id": "pLM7f2LAIerr",
        "outputId": "d95ff250-5027-4d16-9b84-2cf1133a8a99"
      },
      "source": [
        "from nltk.corpus import stopwords\n",
        "nltk.download('stopwords')\n",
        "nltk.download('punkt')\n",
        "stopwords = set(stopwords.words('english'))"
      ],
      "execution_count": null,
      "outputs": [
        {
          "output_type": "stream",
          "text": [
            "[nltk_data] Downloading package stopwords to /root/nltk_data...\n",
            "[nltk_data]   Unzipping corpora/stopwords.zip.\n",
            "[nltk_data] Downloading package punkt to /root/nltk_data...\n",
            "[nltk_data]   Unzipping tokenizers/punkt.zip.\n"
          ],
          "name": "stdout"
        }
      ]
    },
    {
      "cell_type": "markdown",
      "metadata": {
        "id": "0g7aot2W__cS"
      },
      "source": [
        "Using Regex to clean out URLs in the tweets and removing hashtags (since many tweets have hashtags)."
      ]
    },
    {
      "cell_type": "code",
      "metadata": {
        "id": "i0LRA1CxvZxX"
      },
      "source": [
        "def clean_tweet(tweet):\n",
        "  tweet = re.sub('((www\\.[^\\s]+)|(https?://[^\\s]+))', ' ', tweet)\n",
        "  tweet = re.sub(r'((http)\\S+)', '', tweet)\n",
        "  tweet = re.sub(r'\\s+', ' ', re.sub('[^A-Za-z]', ' ', tweet.strip().lower())).strip()\n",
        "  tweet = re.sub(r'\\W+', ' ', tweet.strip().lower()).strip()\n",
        "\n",
        "  return tweet\n",
        "  #tweet_tokens = nltk.word_tokenize(tweet)\n",
        "  #tweet_tokens = [token.lower() for token in tweet.split() if token.lower() not in stopwords]\n",
        "  #return ' '.join(tweet_tokens)"
      ],
      "execution_count": null,
      "outputs": []
    },
    {
      "cell_type": "code",
      "metadata": {
        "id": "lS-tWnOwz7TC"
      },
      "source": [
        "example_tweet1 = '''\n",
        "‘Master’ of Alternative Investments Doesn’t Have a Clue About Bitcoin \n",
        "https://t.co/rpWkGUuKi1  #BitcoinAnalysis #Cryptocurrency #blackstone \n",
        "#CryptocurrencyNews\\r'\n",
        "'''\n",
        "example_tweet2 = '''\n",
        "Which one of you bitcoin investors wants to christen my account with this \n",
        "interesting coin?\\n\\n0xb8F3E2542F43d9038B80E12937c893b1DD6fd27F\\r\n",
        "'''"
      ],
      "execution_count": null,
      "outputs": []
    },
    {
      "cell_type": "code",
      "metadata": {
        "colab": {
          "base_uri": "https://localhost:8080/"
        },
        "id": "QYENC_-O0fB5",
        "outputId": "290deaee-b005-4a92-d55e-6cf01ab2ee20"
      },
      "source": [
        "print(clean_tweet(example_tweet1))"
      ],
      "execution_count": null,
      "outputs": [
        {
          "output_type": "stream",
          "text": [
            "master of alternative investments doesn t have a clue about bitcoin bitcoinanalysis cryptocurrency blackstone cryptocurrencynews\n"
          ],
          "name": "stdout"
        }
      ]
    },
    {
      "cell_type": "code",
      "metadata": {
        "colab": {
          "base_uri": "https://localhost:8080/"
        },
        "id": "Px1Nb5rWB6Gd",
        "outputId": "fdb176ad-24e4-4120-bfb2-50a8c4a4696a"
      },
      "source": [
        "print(clean_tweet(example_tweet2))"
      ],
      "execution_count": null,
      "outputs": [
        {
          "output_type": "stream",
          "text": [
            "which one of you bitcoin investors wants to christen my account with this interesting coin xb f e f d b e c b dd fd f\n"
          ],
          "name": "stdout"
        }
      ]
    },
    {
      "cell_type": "code",
      "metadata": {
        "id": "31ncI_v_1ZGw"
      },
      "source": [
        "tweets_sample['text\\r'] = tweets_sample['text\\r'].apply(lambda x: clean_tweet(x))"
      ],
      "execution_count": null,
      "outputs": []
    },
    {
      "cell_type": "markdown",
      "metadata": {
        "id": "1C2vFnfJIrqI"
      },
      "source": [
        "Next, we'll analyze the sentiment of the tweets using the NLTK and TextBlob toolkits. TextBlob gives us two separate metrics of 'Polarity' and 'Subjectivity', so we'll compare how useful the two approaches are in our modeling."
      ]
    },
    {
      "cell_type": "code",
      "metadata": {
        "id": "RO9MbjDOJK_H"
      },
      "source": [
        "def polarity_score(tweet):\n",
        "  text = textblob.TextBlob(tweet)\n",
        "  return text.sentiment.polarity\n",
        "def subjectivity_score(tweet):\n",
        "  text = textblob.TextBlob(tweet)\n",
        "  return text.sentiment.subjectivity"
      ],
      "execution_count": null,
      "outputs": []
    },
    {
      "cell_type": "code",
      "metadata": {
        "id": "EAc8o7q11pKx"
      },
      "source": [
        "tweets_sample['polarity'] = tweets_sample['text\\r'].apply(lambda x: polarity_score(x))\n",
        "tweets_sample['subjectivity'] = tweets_sample['text\\r'].apply(lambda x: subjectivity_score(x))"
      ],
      "execution_count": null,
      "outputs": []
    },
    {
      "cell_type": "markdown",
      "metadata": {
        "id": "mLH2NSMhOTI5"
      },
      "source": [
        "Let's take a look at the polarity and subjectivity scores of a subset of tweets from our data. Note that polarity ranges from [-1, 1] where -1 denotes a negative sentiment and 1 denotes a positive sentiment. The subjectivity ranges from [0, 1] where a score of 1 denotes extreme subjectivity."
      ]
    },
    {
      "cell_type": "code",
      "metadata": {
        "colab": {
          "base_uri": "https://localhost:8080/",
          "height": 1000
        },
        "id": "ZYykfPfHC1UL",
        "outputId": "6b6659ea-0943-4d8d-a278-5e054fee76b3"
      },
      "source": [
        "display(tweets_sample)"
      ],
      "execution_count": null,
      "outputs": [
        {
          "output_type": "display_data",
          "data": {
            "text/html": [
              "<div>\n",
              "<style scoped>\n",
              "    .dataframe tbody tr th:only-of-type {\n",
              "        vertical-align: middle;\n",
              "    }\n",
              "\n",
              "    .dataframe tbody tr th {\n",
              "        vertical-align: top;\n",
              "    }\n",
              "\n",
              "    .dataframe thead th {\n",
              "        text-align: right;\n",
              "    }\n",
              "</style>\n",
              "<table border=\"1\" class=\"dataframe\">\n",
              "  <thead>\n",
              "    <tr style=\"text-align: right;\">\n",
              "      <th></th>\n",
              "      <th>id</th>\n",
              "      <th>user</th>\n",
              "      <th>fullname</th>\n",
              "      <th>timestamp</th>\n",
              "      <th>replies</th>\n",
              "      <th>likes</th>\n",
              "      <th>retweets</th>\n",
              "      <th>text\\r</th>\n",
              "      <th>lang</th>\n",
              "      <th>polarity</th>\n",
              "      <th>subjectivity</th>\n",
              "    </tr>\n",
              "  </thead>\n",
              "  <tbody>\n",
              "    <tr>\n",
              "      <th>9127814</th>\n",
              "      <td>1.154495e+18</td>\n",
              "      <td>workwithai</td>\n",
              "      <td>Jobs In AI</td>\n",
              "      <td>2019-07-25 20:54:29+00:00</td>\n",
              "      <td>0</td>\n",
              "      <td>0</td>\n",
              "      <td>0</td>\n",
              "      <td>web design osr recruitment lowestoft united ki...</td>\n",
              "      <td>en</td>\n",
              "      <td>0.500000</td>\n",
              "      <td>0.500000</td>\n",
              "    </tr>\n",
              "    <tr>\n",
              "      <th>12826604</th>\n",
              "      <td>1.174088e+18</td>\n",
              "      <td>crypto__mak</td>\n",
              "      <td>Crypto Mak 🌐</td>\n",
              "      <td>2019-09-17 22:28:02+00:00</td>\n",
              "      <td>0</td>\n",
              "      <td>0</td>\n",
              "      <td>1</td>\n",
              "      <td>master of alternative investments doesn t have...</td>\n",
              "      <td>en</td>\n",
              "      <td>0.000000</td>\n",
              "      <td>0.000000</td>\n",
              "    </tr>\n",
              "    <tr>\n",
              "      <th>10064952</th>\n",
              "      <td>1.158807e+18</td>\n",
              "      <td>Maclovin6618</td>\n",
              "      <td>Maclovin</td>\n",
              "      <td>2019-08-06 18:30:09+00:00</td>\n",
              "      <td>0</td>\n",
              "      <td>0</td>\n",
              "      <td>0</td>\n",
              "      <td>eljaboom ripple moneygram what if the baby had...</td>\n",
              "      <td>en</td>\n",
              "      <td>0.000000</td>\n",
              "      <td>0.000000</td>\n",
              "    </tr>\n",
              "    <tr>\n",
              "      <th>10311092</th>\n",
              "      <td>1.160107e+18</td>\n",
              "      <td>pemilijan</td>\n",
              "      <td>Polyn Emilijan</td>\n",
              "      <td>2019-08-10 08:31:59+00:00</td>\n",
              "      <td>0</td>\n",
              "      <td>0</td>\n",
              "      <td>0</td>\n",
              "      <td>buy sell altcoin changes with up to x leverage...</td>\n",
              "      <td>en</td>\n",
              "      <td>0.042857</td>\n",
              "      <td>0.342857</td>\n",
              "    </tr>\n",
              "    <tr>\n",
              "      <th>8000220</th>\n",
              "      <td>1.149214e+18</td>\n",
              "      <td>ttcsalam93</td>\n",
              "      <td>ttcsalam</td>\n",
              "      <td>2019-07-11 07:09:49+00:00</td>\n",
              "      <td>0</td>\n",
              "      <td>0</td>\n",
              "      <td>0</td>\n",
              "      <td>drife ieo crypto blockchain ethereum bitcoin e...</td>\n",
              "      <td>en</td>\n",
              "      <td>0.000000</td>\n",
              "      <td>0.000000</td>\n",
              "    </tr>\n",
              "    <tr>\n",
              "      <th>...</th>\n",
              "      <td>...</td>\n",
              "      <td>...</td>\n",
              "      <td>...</td>\n",
              "      <td>...</td>\n",
              "      <td>...</td>\n",
              "      <td>...</td>\n",
              "      <td>...</td>\n",
              "      <td>...</td>\n",
              "      <td>...</td>\n",
              "      <td>...</td>\n",
              "      <td>...</td>\n",
              "    </tr>\n",
              "    <tr>\n",
              "      <th>5978872</th>\n",
              "      <td>1.140142e+18</td>\n",
              "      <td>DigiAdExpert</td>\n",
              "      <td>DA Exp</td>\n",
              "      <td>2019-06-16 06:18:34+00:00</td>\n",
              "      <td>0</td>\n",
              "      <td>0</td>\n",
              "      <td>0</td>\n",
              "      <td>this is the best project i ve ever seen on the...</td>\n",
              "      <td>en</td>\n",
              "      <td>0.577778</td>\n",
              "      <td>0.344444</td>\n",
              "    </tr>\n",
              "    <tr>\n",
              "      <th>663045</th>\n",
              "      <td>1.129280e+18</td>\n",
              "      <td>top_3_coin</td>\n",
              "      <td>Top 3 Coin</td>\n",
              "      <td>2019-05-17 05:00:01+00:00</td>\n",
              "      <td>0</td>\n",
              "      <td>0</td>\n",
              "      <td>0</td>\n",
              "      <td>bitcoin btc price rp ethereum eth price rp xrp...</td>\n",
              "      <td>en</td>\n",
              "      <td>0.000000</td>\n",
              "      <td>0.000000</td>\n",
              "    </tr>\n",
              "    <tr>\n",
              "      <th>478265</th>\n",
              "      <td>1.128551e+18</td>\n",
              "      <td>BitcoinsStar</td>\n",
              "      <td>Arab Investment</td>\n",
              "      <td>2019-05-15 04:42:04+00:00</td>\n",
              "      <td>0</td>\n",
              "      <td>0</td>\n",
              "      <td>0</td>\n",
              "      <td>good project very strong project abillioncoins...</td>\n",
              "      <td>en</td>\n",
              "      <td>0.631667</td>\n",
              "      <td>0.776667</td>\n",
              "    </tr>\n",
              "    <tr>\n",
              "      <th>4942526</th>\n",
              "      <td>1.134156e+18</td>\n",
              "      <td>coinspectator</td>\n",
              "      <td>Coin Spectator - Real-time cryptocurrency news</td>\n",
              "      <td>2019-05-30 17:52:56+00:00</td>\n",
              "      <td>0</td>\n",
              "      <td>0</td>\n",
              "      <td>0</td>\n",
              "      <td>another aspiring satoshi copyrights the bitcoi...</td>\n",
              "      <td>en</td>\n",
              "      <td>0.000000</td>\n",
              "      <td>0.000000</td>\n",
              "    </tr>\n",
              "    <tr>\n",
              "      <th>16339117</th>\n",
              "      <td>1.195125e+18</td>\n",
              "      <td>teethdreamZ</td>\n",
              "      <td>+€€+hdr€/\\mZ</td>\n",
              "      <td>2019-11-14 23:42:23+00:00</td>\n",
              "      <td>0</td>\n",
              "      <td>0</td>\n",
              "      <td>0</td>\n",
              "      <td>brianwidin with his bitcoin</td>\n",
              "      <td>en</td>\n",
              "      <td>0.000000</td>\n",
              "      <td>0.000000</td>\n",
              "    </tr>\n",
              "  </tbody>\n",
              "</table>\n",
              "<p>65317 rows × 11 columns</p>\n",
              "</div>"
            ],
            "text/plain": [
              "                    id           user  ...  polarity subjectivity\n",
              "9127814   1.154495e+18     workwithai  ...  0.500000     0.500000\n",
              "12826604  1.174088e+18    crypto__mak  ...  0.000000     0.000000\n",
              "10064952  1.158807e+18   Maclovin6618  ...  0.000000     0.000000\n",
              "10311092  1.160107e+18      pemilijan  ...  0.042857     0.342857\n",
              "8000220   1.149214e+18     ttcsalam93  ...  0.000000     0.000000\n",
              "...                ...            ...  ...       ...          ...\n",
              "5978872   1.140142e+18   DigiAdExpert  ...  0.577778     0.344444\n",
              "663045    1.129280e+18     top_3_coin  ...  0.000000     0.000000\n",
              "478265    1.128551e+18   BitcoinsStar  ...  0.631667     0.776667\n",
              "4942526   1.134156e+18  coinspectator  ...  0.000000     0.000000\n",
              "16339117  1.195125e+18    teethdreamZ  ...  0.000000     0.000000\n",
              "\n",
              "[65317 rows x 11 columns]"
            ]
          },
          "metadata": {
            "tags": []
          }
        }
      ]
    },
    {
      "cell_type": "markdown",
      "metadata": {
        "id": "5aXnEBvZDpjJ"
      },
      "source": [
        "### Visualizing Tweet Sentiment"
      ]
    },
    {
      "cell_type": "code",
      "metadata": {
        "colab": {
          "base_uri": "https://localhost:8080/",
          "height": 282
        },
        "id": "M9tuqK3JEvub",
        "outputId": "b6525584-d9c6-49ff-f870-780f91ba0030"
      },
      "source": [
        "tweets_sample.polarity.hist(bins=50) "
      ],
      "execution_count": null,
      "outputs": [
        {
          "output_type": "execute_result",
          "data": {
            "text/plain": [
              "<matplotlib.axes._subplots.AxesSubplot at 0x7fd48c9b8110>"
            ]
          },
          "metadata": {
            "tags": []
          },
          "execution_count": 45
        },
        {
          "output_type": "display_data",
          "data": {
            "image/png": "[encoded data removed]",
            "text/plain": [
              "<Figure size 432x288 with 1 Axes>"
            ]
          },
          "metadata": {
            "tags": [],
            "needs_background": "light"
          }
        }
      ]
    },
    {
      "cell_type": "markdown",
      "metadata": {
        "id": "uaVXGZIWE6eQ"
      },
      "source": [
        "Besides the large proportion of neutral-polarity tweets, the rest of our tweet data appears to have slightly positive sentiment towards Bitcoin (the average polarity is approximately 0.25)."
      ]
    },
    {
      "cell_type": "code",
      "metadata": {
        "colab": {
          "base_uri": "https://localhost:8080/",
          "height": 282
        },
        "id": "nMJDuJibDpSf",
        "outputId": "e63eeb2e-bdd3-41a1-8887-0fd75dd27182"
      },
      "source": [
        "tweets_sample.polarity.loc[tweets_sample.polarity != 0.0].hist(bins=50) \n",
        "# note: our graph excludes the large quantity of neutral-polarity tweets to  \n",
        "# better show us the distribution of sentiments "
      ],
      "execution_count": null,
      "outputs": [
        {
          "output_type": "execute_result",
          "data": {
            "text/plain": [
              "<matplotlib.axes._subplots.AxesSubplot at 0x7fd37d5e2450>"
            ]
          },
          "metadata": {
            "tags": []
          },
          "execution_count": 46
        },
        {
          "output_type": "display_data",
          "data": {
            "image/png": "[encoded data removed]",
            "text/plain": [
              "<Figure size 432x288 with 1 Axes>"
            ]
          },
          "metadata": {
            "tags": [],
            "needs_background": "light"
          }
        }
      ]
    },
    {
      "cell_type": "code",
      "metadata": {
        "colab": {
          "base_uri": "https://localhost:8080/",
          "height": 282
        },
        "id": "2bh18jDmED2e",
        "outputId": "426fb307-5c31-49fa-d0f3-edc4be230b8c"
      },
      "source": [
        "tweets_sample.subjectivity.loc[tweets_sample.subjectivity != 0.0].hist(bins=50)\n",
        "# note: our graph excludes the large quantity of zero-subjectivity tweets to  \n",
        "# better show us the distribution of sentiments "
      ],
      "execution_count": null,
      "outputs": [
        {
          "output_type": "execute_result",
          "data": {
            "text/plain": [
              "<matplotlib.axes._subplots.AxesSubplot at 0x7fd380d01690>"
            ]
          },
          "metadata": {
            "tags": []
          },
          "execution_count": 47
        },
        {
          "output_type": "display_data",
          "data": {
            "image/png": "[encoded data removed]",
            "text/plain": [
              "<Figure size 432x288 with 1 Axes>"
            ]
          },
          "metadata": {
            "tags": [],
            "needs_background": "light"
          }
        }
      ]
    },
    {
      "cell_type": "markdown",
      "metadata": {
        "id": "-UCqeMHCC6HS"
      },
      "source": [
        "## Step 1.5: Visualizations of Tweet Sentiment and Bitcoin"
      ]
    },
    {
      "cell_type": "markdown",
      "metadata": {
        "id": "Z6410PyMDMs7"
      },
      "source": [
        "For the last step of our Exploratory Data Analysis, let's visualize the how the overall sentiment (both Polarity & Subjectivity) on Bitcoin changes over time, and how the price & volume of Bitcoin changes during that timespan."
      ]
    },
    {
      "cell_type": "code",
      "metadata": {
        "id": "LJycfroDHwEg"
      },
      "source": [
        "tweets_sample_copy = tweets_sample.copy()\n",
        "tweets_sample_copy.set_index('timestamp', inplace=True)\n",
        "tweets_sample_copy = tweets_sample_copy[['polarity','subjectivity']].resample('M').mean()\n",
        "\n",
        "historical_copy = historical_df[historical_df['Timestamp'] < '2020-01-01 00:00:00']"
      ],
      "execution_count": null,
      "outputs": []
    },
    {
      "cell_type": "code",
      "metadata": {
        "colab": {
          "base_uri": "https://localhost:8080/",
          "height": 298
        },
        "id": "LDLE_T5GLuEn",
        "outputId": "7a32f52f-0366-4080-be17-82dc849e40c6"
      },
      "source": [
        "plt.figure(figsize=(12,5))\n",
        "\n",
        "fig, ax_left = plt.subplots()\n",
        "ax_right = ax_left.twinx()\n",
        "\n",
        "ax_right.plot(historical_copy['Timestamp'], historical_copy['Close'], color='blue', label='Bitcoin Closing Price')\n",
        "ax_left.plot(tweets_sample_copy['polarity'], color='red', label='Avg. Polarity Score')\n",
        "\n",
        "h1, l1 = ax_left.get_legend_handles_labels()\n",
        "h2, l2 = ax_right.get_legend_handles_labels()\n",
        "plt.legend(h1+h2, l1+l2, loc=2)\n",
        "plt.xlabel('Time')\n",
        "plt.title('Bitcoin Closing Prices & Polarity Sentiment Scores over time')\n",
        "plt.show()"
      ],
      "execution_count": null,
      "outputs": [
        {
          "output_type": "display_data",
          "data": {
            "text/plain": [
              "<Figure size 864x360 with 0 Axes>"
            ]
          },
          "metadata": {
            "tags": []
          }
        },
        {
          "output_type": "display_data",
          "data": {
            "image/png": "[encoded data removed]",
            "text/plain": [
              "<Figure size 432x288 with 2 Axes>"
            ]
          },
          "metadata": {
            "tags": [],
            "needs_background": "light"
          }
        }
      ]
    },
    {
      "cell_type": "code",
      "metadata": {
        "colab": {
          "base_uri": "https://localhost:8080/",
          "height": 298
        },
        "id": "6dJ34x3KPdX7",
        "outputId": "fb051116-db8c-446a-c48b-efa6de0e91a6"
      },
      "source": [
        "plt.figure(figsize=(12,5))\n",
        "\n",
        "fig, ax_left = plt.subplots()\n",
        "ax_right = ax_left.twinx()\n",
        "\n",
        "ax_right.plot(historical_copy['Timestamp'], historical_copy['Close'], color='blue', label='Bitcoin Closing Price')\n",
        "ax_left.plot(tweets_sample_copy['subjectivity'], color='red', label='Avg. Subjectivity Score')\n",
        "\n",
        "h1, l1 = ax_left.get_legend_handles_labels()\n",
        "h2, l2 = ax_right.get_legend_handles_labels()\n",
        "plt.legend(h1+h2, l1+l2, loc=2)\n",
        "plt.xlabel('Time')\n",
        "plt.title('Bitcoin Closing Prices & Subjectivity Sentiment Scores over time')\n",
        "plt.show()"
      ],
      "execution_count": null,
      "outputs": [
        {
          "output_type": "display_data",
          "data": {
            "text/plain": [
              "<Figure size 864x360 with 0 Axes>"
            ]
          },
          "metadata": {
            "tags": []
          }
        },
        {
          "output_type": "display_data",
          "data": {
            "image/png": "[encoded data removed]",
            "text/plain": [
              "<Figure size 432x288 with 2 Axes>"
            ]
          },
          "metadata": {
            "tags": [],
            "needs_background": "light"
          }
        }
      ]
    },
    {
      "cell_type": "code",
      "metadata": {
        "colab": {
          "base_uri": "https://localhost:8080/",
          "height": 298
        },
        "id": "aOcxhXOCO-8C",
        "outputId": "de57f131-6018-47d0-9d48-156e72a6bd2b"
      },
      "source": [
        "plt.figure(figsize=(12,5))\n",
        "\n",
        "fig, ax_left = plt.subplots()\n",
        "ax_right = ax_left.twinx()\n",
        "\n",
        "ax_left.plot(tweets_sample_copy['polarity'], color='red', label='Avg. Polarity Score')\n",
        "ax_right.plot(historical_copy['Timestamp'], historical_copy['Volume_(BTC)'], color='blue', label='Bitcoin Volume')\n",
        "\n",
        "h1, l1 = ax_left.get_legend_handles_labels()\n",
        "h2, l2 = ax_right.get_legend_handles_labels()\n",
        "plt.legend(h1+h2, l1+l2, loc=2)\n",
        "plt.xlabel('Time')\n",
        "plt.title('Bitcoin Daily Volume & Polarity Sentiment Scores over time')\n",
        "plt.show()"
      ],
      "execution_count": null,
      "outputs": [
        {
          "output_type": "display_data",
          "data": {
            "text/plain": [
              "<Figure size 864x360 with 0 Axes>"
            ]
          },
          "metadata": {
            "tags": []
          }
        },
        {
          "output_type": "display_data",
          "data": {
            "image/png": "[encoded data removed]",
            "text/plain": [
              "<Figure size 432x288 with 2 Axes>"
            ]
          },
          "metadata": {
            "tags": [],
            "needs_background": "light"
          }
        }
      ]
    },
    {
      "cell_type": "code",
      "metadata": {
        "colab": {
          "base_uri": "https://localhost:8080/",
          "height": 298
        },
        "id": "eAwBRFDdP8-x",
        "outputId": "1bee2809-c439-4420-8eea-3daeeed0c156"
      },
      "source": [
        "plt.figure(figsize=(12,5))\n",
        "\n",
        "fig, ax_left = plt.subplots()\n",
        "ax_right = ax_left.twinx()\n",
        "\n",
        "ax_left.plot(tweets_sample_copy['subjectivity'], color='red', label='Avg. Subjectivity Score')\n",
        "ax_right.plot(historical_copy['Timestamp'], historical_copy['Volume_(BTC)'], color='blue', label='Bitcoin Volume')\n",
        "\n",
        "h1, l1 = ax_left.get_legend_handles_labels()\n",
        "h2, l2 = ax_right.get_legend_handles_labels()\n",
        "plt.legend(h1+h2, l1+l2, loc=2)\n",
        "plt.xlabel('Time')\n",
        "plt.title('Bitcoin Daily Volume & Subjectivity Sentiment Scores over time')\n",
        "plt.show()"
      ],
      "execution_count": null,
      "outputs": [
        {
          "output_type": "display_data",
          "data": {
            "text/plain": [
              "<Figure size 864x360 with 0 Axes>"
            ]
          },
          "metadata": {
            "tags": []
          }
        },
        {
          "output_type": "display_data",
          "data": {
            "image/png": "[encoded data removed]",
            "text/plain": [
              "<Figure size 432x288 with 2 Axes>"
            ]
          },
          "metadata": {
            "tags": [],
            "needs_background": "light"
          }
        }
      ]
    },
    {
      "cell_type": "markdown",
      "metadata": {
        "id": "uLFmOS1jFLk0"
      },
      "source": [
        "# Step 2: Data Wrangling"
      ]
    },
    {
      "cell_type": "markdown",
      "metadata": {
        "id": "OjI_bfZ4Fot9"
      },
      "source": [
        "## Step 2.0: Installing Packages"
      ]
    },
    {
      "cell_type": "code",
      "metadata": {
        "id": "DyKe08dAC2Jt"
      },
      "source": [
        "sc.install_pypi_package('langdetect==1.0.8')\n",
        "sc.install_pypi_package('nltk')\n",
        "sc.install_pypi_package('textblob')"
      ],
      "execution_count": null,
      "outputs": []
    },
    {
      "cell_type": "markdown",
      "metadata": {
        "id": "PyjLMYBXFvCT"
      },
      "source": [
        "## Step 2.1: Importing Data + Preliminary Processing"
      ]
    },
    {
      "cell_type": "code",
      "metadata": {
        "id": "OkqHu1azFub3"
      },
      "source": [
        "from pyspark.sql.types import *\n",
        "\n",
        "# Schema for bitcoin-tweets.csv\n",
        "tweets_schema = StructType(\n",
        "    [StructField('id', FloatType(), True),\n",
        "     StructField('user', StringType(), True),\n",
        "     StructField('fullname', StringType(), True),\n",
        "     StructField('url', StringType(), True),\n",
        "     StructField('timestamp', TimestampType(), True), \n",
        "     StructField('replies', IntegerType(), True),\n",
        "     StructField('likes', IntegerType(), True),\n",
        "     StructField('retweets', IntegerType(), True),\n",
        "     StructField('text', StringType(), True),\n",
        "    ]\n",
        ")\n",
        "\n",
        "# Schema for bitcoin-prices.csv\n",
        "prices_schema = StructType(\n",
        "    [StructField('Timestamp', IntegerType(), True),\n",
        "     StructField('Open', FloatType(), True),\n",
        "     StructField('High', FloatType(), True),\n",
        "     StructField('Low', FloatType(), True),\n",
        "     StructField('Close', FloatType(), True),\n",
        "     StructField('Volume_(BTC)', FloatType(), True),\n",
        "     StructField('Volume_(Currency)', FloatType(), True),\n",
        "     StructField('Weighted_Price', FloatType(), True),\n",
        "    ]\n",
        ")"
      ],
      "execution_count": null,
      "outputs": []
    },
    {
      "cell_type": "code",
      "metadata": {
        "id": "Z_fZ0cIRF3qa"
      },
      "source": [
        "# Import csv files from S3 bucket as Spark Dataframes\n",
        "tweets_sdf = spark.read.option('delimiter', ';') \\\n",
        "                       .csv(\"s3://cis-545-project-bitcoin-files/bitcoin-tweets.csv\", \n",
        "                            schema = tweets_schema, header = True)\n",
        "prices_sdf = spark.read.csv(\"s3://cis-545-project-bitcoin-files/bitcoin-prices.csv\", \n",
        "                            schema = prices_schema, header = True)"
      ],
      "execution_count": null,
      "outputs": []
    },
    {
      "cell_type": "code",
      "metadata": {
        "id": "hEh6wr6xF537"
      },
      "source": [
        "# Set column names of tweets_sdf, prices_sdf\n",
        "tweets_cols = ['Id', 'User', 'Fullname', 'Url', 'Timestamp', 'Replies', \n",
        "               'Likes', 'Retweets', 'Text']\n",
        "tweets_sdf = tweets_sdf.toDF(*tweets_cols)\n",
        "\n",
        "prices_cols = ['Timestamp', 'Open', 'High', 'Low', 'Close',\n",
        "               'Volume', 'Currency', 'Weighted']\n",
        "prices_sdf = prices_sdf.toDF(*prices_cols)"
      ],
      "execution_count": null,
      "outputs": []
    },
    {
      "cell_type": "code",
      "metadata": {
        "id": "QjpwSmfXGTaJ"
      },
      "source": [
        "# Drop null rows of tweets_sdf, prices_sdf\n",
        "tweets_sdf = tweets_sdf.dropna()\n",
        "prices_sdf = prices_sdf.dropna()"
      ],
      "execution_count": null,
      "outputs": []
    },
    {
      "cell_type": "code",
      "metadata": {
        "id": "tNnKV5f-F9UK"
      },
      "source": [
        "tweets_sdf.show(5)"
      ],
      "execution_count": null,
      "outputs": []
    },
    {
      "cell_type": "code",
      "metadata": {
        "id": "kKmpMKjdGSWo"
      },
      "source": [
        "prices_sdf.show(5)"
      ],
      "execution_count": null,
      "outputs": []
    },
    {
      "cell_type": "markdown",
      "metadata": {
        "id": "KI58gP5fGW5A"
      },
      "source": [
        "## Step 2.2: Obtaining New Features with UDFs"
      ]
    },
    {
      "cell_type": "code",
      "metadata": {
        "id": "k6Oc_ey2Gdmo"
      },
      "source": [
        "from langdetect import detect\n",
        "from pyspark.sql.functions import udf\n",
        "\n",
        "# Determine the language of each tweet\n",
        "def detect_lang(x):\n",
        "    try:\n",
        "        return detect(x)\n",
        "    except:\n",
        "        return 'fr'        # Catches faulty inputs as non-English\n",
        "\n",
        "detect_lang_udf = udf(lambda x: detect_lang(x), StringType())\n",
        "tweets_lang_sdf = tweets_sdf.select('id', 'user', 'fullname', 'timestamp', \n",
        "                                    'url', 'replies', 'likes', 'retweets', 'text', \n",
        "                                    detect_lang_udf('text').alias('Language'))\n",
        "tweets_lang_sdf.show(5)"
      ],
      "execution_count": null,
      "outputs": []
    },
    {
      "cell_type": "code",
      "metadata": {
        "id": "WuSMrPAlGd-s"
      },
      "source": [
        "# Select all tweets in English\n",
        "tweets_lang_sdf.createOrReplaceTempView(\"tweets_lang\")\n",
        "tweets_query = '''SELECT Timestamp, Replies, Likes, Retweets, Text\n",
        "                  FROM tweets_lang WHERE tweets_lang.Language = \"en\"'''\n",
        "tweets_lang_sdf = spark.sql(tweets_query)\n",
        "tweets_lang_sdf.show(5)"
      ],
      "execution_count": null,
      "outputs": []
    },
    {
      "cell_type": "code",
      "metadata": {
        "id": "mr3ST_TfGeOe"
      },
      "source": [
        "import nltk\n",
        "import textblob\n",
        "import re\n",
        "\n",
        "# List of English stopwords - Import of stopwords not working, so listed here\n",
        "stopwords =[\"i\", \"me\", \"my\", \"myself\", \"we\", \"our\", \"ours\", \"ourselves\", \"you\", \n",
        "            \"your\", \"yours\", \"yourself\", \"yourselves\", \"he\", \"him\", \"his\", \n",
        "            \"himself\", \"she\", \"her\", \"hers\", \"herself\", \"it\", \"its\", \"itself\", \n",
        "            \"they\", \"them\", \"their\", \"theirs\", \"themselves\", \"what\", \"which\", \n",
        "            \"who\", \"whom\", \"this\", \"that\", \"these\", \"those\", \"am\", \"is\", \"are\", \n",
        "            \"was\", \"were\", \"be\", \"been\", \"being\", \"have\", \"has\", \"had\", \n",
        "            \"having\", \"do\", \"does\", \"did\", \"doing\", \"a\", \"an\", \"the\", \"and\", \n",
        "            \"but\", \"if\", \"or\", \"because\", \"as\", \"until\", \"while\", \"of\", \"at\", \n",
        "            \"by\", \"for\", \"with\", \"about\", \"against\", \"between\", \"into\", \n",
        "            \"through\", \"during\", \"before\", \"after\", \"above\", \"below\", \"to\", \n",
        "            \"from\", \"up\", \"down\", \"in\", \"out\", \"on\", \"off\", \"over\", \"under\", \n",
        "            \"again\", \"further\", \"then\", \"once\", \"here\", \"there\", \"when\", \n",
        "            \"where\", \"why\", \"how\", \"all\", \"any\", \"both\", \"each\", \"few\", \"more\", \n",
        "            \"most\", \"other\", \"some\", \"such\", \"no\", \"nor\", \"not\", \"only\", \"own\", \n",
        "            \"same\", \"so\", \"than\", \"too\", \"very\", \"s\", \"t\", \"can\", \"will\", \n",
        "            \"just\", \"don\", \"should\", \"now\"]"
      ],
      "execution_count": null,
      "outputs": []
    },
    {
      "cell_type": "code",
      "metadata": {
        "id": "W0ekGNzhG_sU"
      },
      "source": [
        "# Remove undesirable contents in the tweets\n",
        "def clean_tweet(tweet):\n",
        "    tweet = re.sub('((www\\.[^\\s]+)|(https?://[^\\s]+))', ' ', tweet)\n",
        "    tweet = re.sub(r'((http)\\S+)', '', tweet)\n",
        "    tweet = re.sub(r'\\s+', ' ', re.sub('[^A-Za-z]', ' ', tweet.strip().lower())).strip()\n",
        "    tweet = re.sub(r'\\W+', ' ', tweet.strip().lower()).strip()\n",
        "    return tweet\n",
        "\n",
        "clean_tweet_udf = udf(lambda x: clean_tweet(x), StringType())\n",
        "tweets_lang_sdf = tweets_lang_sdf.select('Timestamp', 'Replies', 'Likes', \n",
        "                                         'Retweets', clean_tweet_udf('Text').alias('Text'))\n",
        "tweets_lang_sdf.show(5)"
      ],
      "execution_count": null,
      "outputs": []
    },
    {
      "cell_type": "code",
      "metadata": {
        "id": "Dp91CRZoHDYW"
      },
      "source": [
        "# Determine polarity, subjectivity of the tweets\n",
        "def polarity_score(tweet):\n",
        "    text = textblob.TextBlob(tweet)\n",
        "    return text.sentiment.polarity\n",
        "\n",
        "def subjectivity_score(tweet):\n",
        "    text = textblob.TextBlob(tweet)\n",
        "    return text.sentiment.subjectivity\n",
        "\n",
        "polarity_udf = udf(lambda x: polarity_score(x), FloatType())\n",
        "subjectivity_udf = udf(lambda x: subjectivity_score(x), FloatType())\n",
        "\n",
        "tweets_sentiment_sdf = tweets_lang_sdf.select('Timestamp', 'Replies', 'Likes', \n",
        "                                              'Retweets', 'Text', \n",
        "                                              polarity_udf('Text').alias('Polarity'), \n",
        "                                              subjectivity_udf('Text').alias('Subjectivity'))\n",
        "tweets_sentiment_sdf.show(5)"
      ],
      "execution_count": null,
      "outputs": []
    },
    {
      "cell_type": "code",
      "metadata": {
        "id": "DY1xmT99HFDE"
      },
      "source": [
        "from pyspark.sql.functions import udf\n",
        "from datetime import datetime\n",
        "\n",
        "# Convert Timestamp column of prices_sdf to a timestamp type\n",
        "def convert_datetime(x):\n",
        "    return datetime.fromtimestamp(x)\n",
        "datetime_udf = udf(lambda x: convert_datetime(x), TimestampType())\n",
        "prices_time_sdf = prices_sdf.select(datetime_udf('Timestamp').alias('Timestamp'), \n",
        "                                    'Open', 'Close', 'Volume')\n",
        "prices_time_sdf.show(5)"
      ],
      "execution_count": null,
      "outputs": []
    },
    {
      "cell_type": "markdown",
      "metadata": {
        "id": "ESdxtgdpHSbz"
      },
      "source": [
        "## Step 2.3: Final Processing + Joining"
      ]
    },
    {
      "cell_type": "code",
      "metadata": {
        "id": "Kq-PmufdHXGc"
      },
      "source": [
        "# Group, sort prices by dates\n",
        "prices_time_sdf.createOrReplaceTempView('prices')\n",
        "prices_query = \"\"\"SELECT DATE_FORMAT(prices.Timestamp, 'yyyy-MM-dd') AS Date, \n",
        "                  SUM(prices.Volume) AS Volume, \n",
        "                  LAST(prices.Close) - FIRST(prices.Open) AS Price \n",
        "                  FROM prices GROUP BY Date ORDER BY Date ASC\n",
        "                  \"\"\"\n",
        "prices_days_sdf = spark.sql(prices_query)\n",
        "\n",
        "prices_days_sdf.createOrReplaceTempView('days')\n",
        "prices_query = \"\"\"SELECT * FROM days \n",
        "                  WHERE Date BETWEEN '2016-01-01' AND '2019-03-29'\"\"\"\n",
        "prices_days_sdf = spark.sql(prices_query)\n",
        "prices_days_sdf.show(5)"
      ],
      "execution_count": null,
      "outputs": []
    },
    {
      "cell_type": "code",
      "metadata": {
        "id": "0cuS1y6hPeKD"
      },
      "source": [
        "import pyspark.sql.functions as F\n",
        "from pyspark.sql.window import Window\n",
        "\n",
        "# Take difference of Volume between rows\n",
        "window_sdf = Window.orderBy('Date')\n",
        "prices_final_sdf = prices_days_sdf.withColumn('Previous', F.lag(\n",
        "    prices_days_sdf['Volume']).over(window_sdf))\n",
        "prices_final_sdf = prices_final_sdf.withColumn('Volume_Difference', F.when(F.isnull(\n",
        "    prices_final_sdf['Volume'] - prices_final_sdf['Previous']), 0).otherwise(\n",
        "        prices_final_sdf['Volume'] - prices_final_sdf['Previous']))\n",
        "prices_final_sdf = prices_final_sdf.drop('Volume', 'Previous')\n",
        "prices_final_sdf = prices_final_sdf.withColumnRenamed('Volume_Difference', 'Volume')\n",
        "prices_final_sdf.show(5)"
      ],
      "execution_count": null,
      "outputs": []
    },
    {
      "cell_type": "code",
      "metadata": {
        "id": "ilO38QVb4TEN"
      },
      "source": [
        "# Sample the tweets dataset\n",
        "tweets_sample_sdf = tweets_sentiment_sdf.sample(0.10)\n",
        "tweets_sample_sdf.show(5)"
      ],
      "execution_count": null,
      "outputs": []
    },
    {
      "cell_type": "code",
      "metadata": {
        "id": "1hwPRtc1SVZH"
      },
      "source": [
        "# Group tweets by dates\n",
        "tweets_sample_sdf.createOrReplaceTempView(\"sample\")\n",
        "tweets_query = \"\"\"SELECT DATE_FORMAT(sample.Timestamp, 'yyyy-MM-dd') AS Date, \n",
        "                  MAX(sample.Replies) AS Replies, MAX(sample.Likes) AS Likes, \n",
        "                  MAX(sample.Retweets) AS Retweets, AVG(sample.Polarity) AS Polarity, \n",
        "                  AVG(sample.Subjectivity) AS Subjectivity\n",
        "                  FROM sample GROUP BY Date ORDER BY Date ASC\n",
        "                  \"\"\"\n",
        "tweets_final_sdf = spark.sql(tweets_query)\n",
        "tweets_final_sdf.show(5)"
      ],
      "execution_count": null,
      "outputs": []
    },
    {
      "cell_type": "code",
      "metadata": {
        "id": "4VUY1FLxPUi6"
      },
      "source": [
        "# Join the two dataframes into final_sdf\n",
        "final_sdf = tweets_final_sdf.join(prices_final_sdf, \n",
        "                tweets_final_sdf.Date == prices_final_sdf.Date, \n",
        "                'inner').drop(prices_final_sdf.Date)\n",
        "final_sdf.show()"
      ],
      "execution_count": null,
      "outputs": []
    },
    {
      "cell_type": "markdown",
      "metadata": {
        "id": "Z66-JBMnFPx1"
      },
      "source": [
        "# Step 3: Modeling"
      ]
    },
    {
      "cell_type": "markdown",
      "metadata": {
        "id": "RxymryE6TjIa"
      },
      "source": [
        "## Step 3.0: Set-Up"
      ]
    },
    {
      "cell_type": "code",
      "metadata": {
        "id": "JQEUIbHdTiLq"
      },
      "source": [
        "%%capture\n",
        "!apt update\n",
        "!apt install libkrb5-dev\n",
        "!pip install sparkmagic\n",
        "%load_ext sparkmagic.magics"
      ],
      "execution_count": null,
      "outputs": []
    },
    {
      "cell_type": "code",
      "metadata": {
        "id": "PPpr1VeaY1NN"
      },
      "source": [
        "# EMR Cluster Set-Up\n",
        "%spark add -s my_session -l python -u # Master Public DNS for cluster here"
      ],
      "execution_count": null,
      "outputs": []
    },
    {
      "cell_type": "markdown",
      "metadata": {
        "id": "HklJ74TaTqiH"
      },
      "source": [
        "## Step 3.1: PCA for Dimensionality Reduction"
      ]
    },
    {
      "cell_type": "code",
      "metadata": {
        "id": "vpVDHiMBTrAc"
      },
      "source": [
        "%%spark\n",
        "\n",
        "# Set the columns that will be features\n",
        "all_columns = final_sdf.columns\n",
        "drop_columns = ['Date', 'Price']\n",
        "feature_columns = [i for i in all_columns if i not in drop_columns]"
      ],
      "execution_count": null,
      "outputs": []
    },
    {
      "cell_type": "code",
      "metadata": {
        "id": "6Jn7yWUSbn9L"
      },
      "source": [
        "%%spark\n",
        "\n",
        "from pyspark.ml.feature import VectorAssembler\n",
        "from pyspark.ml import Pipeline\n",
        "\n",
        "# Create a feature vector, transform the dataframe\n",
        "assembler = VectorAssembler(inputCols = feature_columns, outputCol = \"features\")\n",
        "pipeline = Pipeline(stages = [assembler])\n",
        "pipeline_model = pipeline.fit(final_sdf)\n",
        "transformed_sdf = pipeline_model.transform(final_sdf)\n",
        "transformed_sdf.show(5)"
      ],
      "execution_count": null,
      "outputs": []
    },
    {
      "cell_type": "code",
      "metadata": {
        "id": "wiVUV_JDdHnE"
      },
      "source": [
        "%%spark\n",
        "\n",
        "# Split dataset to train, test\n",
        "train_sdf, test_sdf = transformed_sdf.randomSplit([0.8, 0.2], seed = 1)"
      ],
      "execution_count": null,
      "outputs": []
    },
    {
      "cell_type": "code",
      "metadata": {
        "id": "dg7ugTQ6d1IU"
      },
      "source": [
        "%%spark\n",
        "\n",
        "from pyspark.ml.feature import PCA\n",
        "\n",
        "# Check explained variance of PCA\n",
        "pca = PCA(k = len(train_sdf.columns), inputCol = 'features', outputCol = 'pcaFeatures')\n",
        "pca_model = pca.fit(train_sdf)\n",
        "pca_model.explainedVariance"
      ],
      "execution_count": null,
      "outputs": []
    },
    {
      "cell_type": "markdown",
      "metadata": {
        "id": "KqYXPfA5UBx7"
      },
      "source": [
        "Note: Visualizations of the explained variance ratio and specific values from the PCA are shown in Step 3.4."
      ]
    },
    {
      "cell_type": "code",
      "metadata": {
        "id": "mFoZz4NgfAKi"
      },
      "source": [
        "%%spark\n",
        "\n",
        "# Perform PCA\n",
        "pca = PCA(k = 4, inputCol = 'features', outputCol = 'pcaFeatures')\n",
        "pca_model = pca.fit(train_sdf)\n",
        "pca_train = pca_model.transform(train_sdf)\n",
        "pca_test = pca_model.transform(test_sdf)\n",
        "\n",
        "train_features = pca_train.select('label', 'pcaFeatures')\n",
        "test_features = pca_test.select('label', 'pcaFeatures')"
      ],
      "execution_count": null,
      "outputs": []
    },
    {
      "cell_type": "markdown",
      "metadata": {
        "id": "_MWyyhzkWB2p"
      },
      "source": [
        "## Step 3.2: Linear Regression"
      ]
    },
    {
      "cell_type": "markdown",
      "metadata": {
        "id": "Pn_oHowKpe2h"
      },
      "source": [
        "### Initial Model"
      ]
    },
    {
      "cell_type": "code",
      "metadata": {
        "id": "ahac35kqWI05",
        "colab": {
          "base_uri": "https://localhost:8080/"
        },
        "outputId": "c8c23814-5ea3-4e68-aaff-4c87090737c5"
      },
      "source": [
        "%%spark\n",
        "\n",
        "from pyspark.ml.regression import LinearRegression\n",
        "\n",
        "lr = LinearRegression(featuresCol = 'pcaFeatures')\n",
        "lr_model = lr.fit(train_features)"
      ],
      "execution_count": null,
      "outputs": [
        {
          "output_type": "stream",
          "text": [
            "LinearRegressionModel: uid=LinearRegression_9e982e76087d, numFeatures=7\n"
          ],
          "name": "stdout"
        }
      ]
    },
    {
      "cell_type": "code",
      "metadata": {
        "id": "Ama2EIfzkoct",
        "colab": {
          "base_uri": "https://localhost:8080/"
        },
        "outputId": "6e99e43f-a36f-4cac-c5a3-76aad9366b6f"
      },
      "source": [
        "%%spark\n",
        "\n",
        "# Measures of training accuracy for Linear Regression\n",
        "lr_summary = lr_model.summary\n",
        "print(\"numIterations: %d\" % lr_summary.totalIterations)\n",
        "\n",
        "#lr_summary.residuals.show()\n",
        "print(\"RMSE: %f\" % lr_summary.rootMeanSquaredError)\n",
        "print(\"r2: %f\" % lr_summary.r2)"
      ],
      "execution_count": null,
      "outputs": [
        {
          "output_type": "stream",
          "text": [
            "numIterations: 350\n",
            "RMSE: 3.921554\n",
            "r2: 0.613970\n"
          ],
          "name": "stdout"
        }
      ]
    },
    {
      "cell_type": "code",
      "metadata": {
        "id": "lZ1hniSZlIfh"
      },
      "source": [
        "%%spark\n",
        "\n",
        "from pyspark.ml.evaluation import RegressionEvaluator\n",
        "\n",
        "# Check Linear Regression model's test accuracy\n",
        "predictions = lr_model.transform(test_sdf)\n",
        "lr_model.setPredictionCol('prediction')\n",
        "\n",
        "lr_evaluator = RegressionEvaluator(predictionCol = 'prediction', metricName = 'rmse')\n",
        "\n",
        "test_rmse_orig = lr_evaluator.evaluate(predictions)"
      ],
      "execution_count": null,
      "outputs": []
    },
    {
      "cell_type": "code",
      "metadata": {
        "id": "FApfqogVScsb",
        "colab": {
          "base_uri": "https://localhost:8080/"
        },
        "outputId": "dcc5f330-bf67-4c47-9073-c7f5cfc5aeb6"
      },
      "source": [
        "print(\"Test RMSE: %f\" % test_rmse_orig)"
      ],
      "execution_count": null,
      "outputs": [
        {
          "output_type": "stream",
          "text": [
            "Test RMSE: 4.112018\n"
          ],
          "name": "stdout"
        }
      ]
    },
    {
      "cell_type": "markdown",
      "metadata": {
        "id": "KE4z0m0AWJD4"
      },
      "source": [
        "### Linear Regression with Regularization"
      ]
    },
    {
      "cell_type": "markdown",
      "metadata": {
        "id": "7TCrWEHoKfHv"
      },
      "source": [
        "This time, we'll try using different regularization parameters to avoid overfitting in our original Linear Regression model. We'll look at LASSO (L1), Ridge (L2), and elastic net with the different regularization hyperparameters."
      ]
    },
    {
      "cell_type": "code",
      "metadata": {
        "id": "C-Yh_CWaR40o"
      },
      "source": [
        "%%spark\n",
        "\n",
        "lr = LinearRegression().setFeaturesCol('pcaFeatures').setPredictionCol('prediction')"
      ],
      "execution_count": null,
      "outputs": []
    },
    {
      "cell_type": "markdown",
      "metadata": {
        "id": "c-Zb-UZvR6mD"
      },
      "source": [
        "Note that we are testing L1, L2, & elastic net via the paramGrid below. LASSO (L1) is given by elasticNetParam = 1.0, Ridge (L2) is given by elasticNetParam = 0.0, and we tested the Elastic Net by setting elasticNetParam = 0.5."
      ]
    },
    {
      "cell_type": "code",
      "metadata": {
        "id": "Foe8fJTbWNrb"
      },
      "source": [
        "%%spark\n",
        "\n",
        "paramGrid = ParamGridBuilder() \\\n",
        "    .addGrid(lr.maxIter, [500]) \\\n",
        "    .addGrid(lr.regParam, [0.2, 0.1, 0.01]) \\\n",
        "    .addGrid(lr.elasticNetParam, [0.0, 0.5, 1.0]) \\\n",
        "    .build()\n",
        "\n",
        "lr_evaluator = RegressionEvaluator(predictionCol = 'prediction', metricName = 'rmse')\n",
        "\n",
        "crossVal = CrossValidator() \\\n",
        "    .setEstimator(lr) \\\n",
        "    .setEvaluator(lr_evaluator) \\\n",
        "    .setEstimatorParamMaps(paramGrid) \\\n",
        "    .setNumFolds(4)\n",
        ")"
      ],
      "execution_count": null,
      "outputs": []
    },
    {
      "cell_type": "code",
      "metadata": {
        "id": "I-rPLBHJR9Tv"
      },
      "source": [
        "%%spark\n",
        "\n",
        "cvModel = crossVal.fit(train_sdf)\n",
        "\n",
        "bestModel = cvModel.bestModel\n",
        "bestRegParam = bestModel._java_obj.getRegParam()\n",
        "bestElasticNetParam = bestModel._java_obj.getElasticNetParam()"
      ],
      "execution_count": null,
      "outputs": []
    },
    {
      "cell_type": "code",
      "metadata": {
        "id": "BVNgc2bMR--C",
        "colab": {
          "base_uri": "https://localhost:8080/"
        },
        "outputId": "a82089e0-3fda-42a6-a389-7f4e3276ceab"
      },
      "source": [
        "print(\"Best regParam: %f\" % bestRegParam)\n",
        "print(\"Best elasticNetParam: %f\" % bestElasticNetParam)"
      ],
      "execution_count": null,
      "outputs": [
        {
          "output_type": "stream",
          "text": [
            "Best regParam: 0.100000\n",
            "Best elasticNetParam: 0.500000\n"
          ],
          "name": "stdout"
        }
      ]
    },
    {
      "cell_type": "code",
      "metadata": {
        "colab": {
          "base_uri": "https://localhost:8080/"
        },
        "id": "NAfCxjUFeRZ2",
        "outputId": "f79ed926-62c3-40c4-9083-fef0dbda1e22"
      },
      "source": [
        "predictions = bestModel.transform(test_sdf)\n",
        "test_rmse_best = lr_evaluator.evaluate(predictions)\n",
        "print(\"Test RMSE: %f\" % test_rmse_best)"
      ],
      "execution_count": null,
      "outputs": [
        {
          "output_type": "stream",
          "text": [
            "Test RMSE: 4.031907\n"
          ],
          "name": "stdout"
        }
      ]
    },
    {
      "cell_type": "markdown",
      "metadata": {
        "id": "7ToacMPWSAzP"
      },
      "source": [
        "As you can see, our search for the Linear Regression's best hyperparameters gave us elasticNetParam = 0.5, so we'll use the Elastic Net (L1 + L2) when comparing our Linear Regression w/ Regularization's results with our other tested models."
      ]
    },
    {
      "cell_type": "markdown",
      "metadata": {
        "id": "49Ugy-d3WOwe"
      },
      "source": [
        "## Step 3.3: Random Forest Regression"
      ]
    },
    {
      "cell_type": "markdown",
      "metadata": {
        "id": "4ImYPAnfK9he"
      },
      "source": [
        "### Initial Model"
      ]
    },
    {
      "cell_type": "code",
      "metadata": {
        "id": "KqOydz34WOHr",
        "colab": {
          "base_uri": "https://localhost:8080/"
        },
        "outputId": "e851fee8-b362-43a5-8180-dc336239184e"
      },
      "source": [
        "%%spark\n",
        "\n",
        "from pyspark.ml.regression import RandomForestRegressor\n",
        "\n",
        "rf = RandomForestRegressor() \\\n",
        "  .setMaxDepth(10) \\\n",
        "  .setNumTrees(20) \\\n",
        "  .setSeed(1)\n",
        "\n",
        "rf.setFeaturesCol('pcaFeatures')\n",
        "rf.setPredictionCol('prediction')\n",
        "\n",
        "rf_model = rf.fit(train_sdf)"
      ],
      "execution_count": null,
      "outputs": [
        {
          "output_type": "stream",
          "text": [
            "RandomForestRegressionModel: uid=RandomForestRegressor_0c2934909ce7, numTrees=20, numFeatures=7\n"
          ],
          "name": "stdout"
        }
      ]
    },
    {
      "cell_type": "code",
      "metadata": {
        "id": "vZHSueBAKKvn"
      },
      "source": [
        "%%spark\n",
        "\n",
        "predictions_train = rf_model.transform(train_sdf)\n",
        "predictions_test = rf_model.transform(test_sdf)"
      ],
      "execution_count": null,
      "outputs": []
    },
    {
      "cell_type": "code",
      "metadata": {
        "id": "oG99qtg0Kipq"
      },
      "source": [
        "%%spark\n",
        "\n",
        "from pyspark.ml.evaluation import RegressionEvaluator\n",
        "rf_evaluator = RegressionEvaluator(predictionCol = 'prediction', metricName = 'rmse')\n",
        "\n",
        "# measures of train and test accuracy for our initial random forest regression model\n",
        "train_rmse_rf = rf_evaluator.evaluate(predictions_train)\n",
        "test_rmse_rf = rf_evaluator.evaluate(predictions)"
      ],
      "execution_count": null,
      "outputs": []
    },
    {
      "cell_type": "code",
      "metadata": {
        "id": "BGwhF7tJSKAR",
        "colab": {
          "base_uri": "https://localhost:8080/"
        },
        "outputId": "cc27751e-fc44-4383-c472-d199971b051f"
      },
      "source": [
        "print(\"Training RMSE: %f\" % train_rmse_rf)\n",
        "print(\"Test RMSE: %f\" % test_rmse_rf)"
      ],
      "execution_count": null,
      "outputs": [
        {
          "output_type": "stream",
          "text": [
            "Training RMSE: 1.874733\n",
            "Test RMSE: 2.567549\n"
          ],
          "name": "stdout"
        }
      ]
    },
    {
      "cell_type": "markdown",
      "metadata": {
        "id": "gNoJw79kLYtL"
      },
      "source": [
        "### Hyperparameter Tuning"
      ]
    },
    {
      "cell_type": "markdown",
      "metadata": {
        "id": "aUApAAxALwmm"
      },
      "source": [
        "Now, we'll tune our Random Forest model's two main hyperparameters (numTrees & maxDepth) using the following parameter grid, and Spark's CrossValidator()."
      ]
    },
    {
      "cell_type": "code",
      "metadata": {
        "id": "pBzUPwbOLcoi"
      },
      "source": [
        "paramGrid = ParamGridBuilder() \\\n",
        "    .addGrid(numTrees, [5, 10, 20, 30, 40, 50]) \\\n",
        "    .addGrid(maxDepth, [5, 10, 15, 20]) \\\n",
        "    .build()\n",
        "\n",
        "crossVal = CrossValidator() \\\n",
        "    .setEstimator(rf_model) \\\n",
        "    .setEvaluator(rf_evaluator) \\\n",
        "    .setEstimatorParamMaps(paramGrid) \\\n",
        "    .setNumFolds(4)\n",
        ")"
      ],
      "execution_count": null,
      "outputs": []
    },
    {
      "cell_type": "code",
      "metadata": {
        "id": "SV8rotRRLjpb"
      },
      "source": [
        "cvModel = crossVal.fit(train_sdf)\n",
        "predictions = cvModel.transform(test_sdf)\n",
        "\n",
        "test_rmse_rf_tuned = rf_evaluator.evaluate(predictions)"
      ],
      "execution_count": null,
      "outputs": []
    },
    {
      "cell_type": "code",
      "metadata": {
        "id": "OqBbVF62LmNI",
        "colab": {
          "base_uri": "https://localhost:8080/"
        },
        "outputId": "9e7f52c0-ae47-4b37-8b55-1e72d883ca47"
      },
      "source": [
        "print(\"Test RMSE after tuning: %f\" %test_rmse_rf_tuned)"
      ],
      "execution_count": null,
      "outputs": [
        {
          "output_type": "stream",
          "text": [
            "Test RMSE after tuning: 2.109739\n"
          ],
          "name": "stdout"
        }
      ]
    },
    {
      "cell_type": "markdown",
      "metadata": {
        "id": "Ar6IHdOsSpyv"
      },
      "source": [
        "Finally, let's compare how well each of our tested models did in relation to each other, in the section below."
      ]
    },
    {
      "cell_type": "markdown",
      "metadata": {
        "id": "SPruq_pOABFP"
      },
      "source": [
        "## Step 3.4: Model Visualizations"
      ]
    },
    {
      "cell_type": "code",
      "metadata": {
        "colab": {
          "base_uri": "https://localhost:8080/",
          "height": 542
        },
        "id": "P0K_FYb49L8n",
        "outputId": "45ee5a54-b1d6-4547-a051-7d94a5043a13"
      },
      "source": [
        "# PCA Explained Variance\n",
        "explained = [0, 0.7323, 0.2198, 0.0386, 0.0066, 0.0019, 0.0008]\n",
        "fig = px.line(x = np.arange(0, 7), y = np.cumsum(explained), \n",
        "              title = 'PCA Explained Variance', labels = {\n",
        "                  'x': 'Dimension', \n",
        "                  'y': 'Ratio'\n",
        "              })\n",
        "fig.show()"
      ],
      "execution_count": null,
      "outputs": [
        {
          "output_type": "display_data",
          "data": {
            "text/html": [
              "<html>\n",
              "<head><meta charset=\"utf-8\" /></head>\n",
              "<body>\n",
              "    <div>\n",
              "            <script src=\"https://cdnjs.cloudflare.com/ajax/libs/mathjax/2.7.5/MathJax.js?config=TeX-AMS-MML_SVG\"></script><script type=\"text/javascript\">if (window.MathJax) {MathJax.Hub.Config({SVG: {font: \"STIX-Web\"}});}</script>\n",
              "                <script type=\"text/javascript\">window.PlotlyConfig = {MathJaxConfig: 'local'};</script>\n",
              "        <script src=\"https://cdn.plot.ly/plotly-latest.min.js\"></script>    \n",
              "            <div id=\"85da696b-f201-4cf0-98ff-ca0f0d92b28c\" class=\"plotly-graph-div\" style=\"height:525px; width:100%;\"></div>\n",
              "            <script type=\"text/javascript\">\n",
              "                \n",
              "                    window.PLOTLYENV=window.PLOTLYENV || {};\n",
              "                    \n",
              "                if (document.getElementById(\"85da696b-f201-4cf0-98ff-ca0f0d92b28c\")) {\n",
              "                    Plotly.newPlot(\n",
              "                        '85da696b-f201-4cf0-98ff-ca0f0d92b28c',\n",
              "                        [{\"hoverlabel\": {\"namelength\": 0}, \"hovertemplate\": \"Dimension=%{x}<br>Ratio=%{y}\", \"legendgroup\": \"\", \"line\": {\"color\": \"#636efa\", \"dash\": \"solid\"}, \"mode\": \"lines\", \"name\": \"\", \"showlegend\": false, \"type\": \"scatter\", \"x\": [0, 1, 2, 3, 4, 5, 6], \"xaxis\": \"x\", \"y\": [0.0, 0.7323, 0.9521, 0.9906999999999999, 0.9973, 0.9992, 1.0], \"yaxis\": \"y\"}],\n",
              "                        {\"legend\": {\"tracegroupgap\": 0}, \"template\": {\"data\": {\"bar\": [{\"error_x\": {\"color\": \"#2a3f5f\"}, \"error_y\": {\"color\": \"#2a3f5f\"}, \"marker\": {\"line\": {\"color\": \"#E5ECF6\", \"width\": 0.5}}, \"type\": \"bar\"}], \"barpolar\": [{\"marker\": {\"line\": {\"color\": \"#E5ECF6\", \"width\": 0.5}}, \"type\": \"barpolar\"}], \"carpet\": [{\"aaxis\": {\"endlinecolor\": \"#2a3f5f\", \"gridcolor\": \"white\", \"linecolor\": \"white\", \"minorgridcolor\": \"white\", \"startlinecolor\": \"#2a3f5f\"}, \"baxis\": {\"endlinecolor\": \"#2a3f5f\", \"gridcolor\": \"white\", \"linecolor\": \"white\", \"minorgridcolor\": \"white\", \"startlinecolor\": \"#2a3f5f\"}, \"type\": \"carpet\"}], \"choropleth\": [{\"colorbar\": {\"outlinewidth\": 0, \"ticks\": \"\"}, \"type\": \"choropleth\"}], \"contour\": [{\"colorbar\": {\"outlinewidth\": 0, \"ticks\": \"\"}, \"colorscale\": [[0.0, \"#0d0887\"], [0.1111111111111111, \"#46039f\"], [0.2222222222222222, \"#7201a8\"], [0.3333333333333333, \"#9c179e\"], [0.4444444444444444, \"#bd3786\"], [0.5555555555555556, \"#d8576b\"], [0.6666666666666666, \"#ed7953\"], [0.7777777777777778, \"#fb9f3a\"], [0.8888888888888888, \"#fdca26\"], [1.0, \"#f0f921\"]], \"type\": \"contour\"}], \"contourcarpet\": [{\"colorbar\": {\"outlinewidth\": 0, \"ticks\": \"\"}, \"type\": \"contourcarpet\"}], \"heatmap\": [{\"colorbar\": {\"outlinewidth\": 0, \"ticks\": \"\"}, \"colorscale\": [[0.0, \"#0d0887\"], [0.1111111111111111, \"#46039f\"], [0.2222222222222222, \"#7201a8\"], [0.3333333333333333, \"#9c179e\"], [0.4444444444444444, \"#bd3786\"], [0.5555555555555556, \"#d8576b\"], [0.6666666666666666, \"#ed7953\"], [0.7777777777777778, \"#fb9f3a\"], [0.8888888888888888, \"#fdca26\"], [1.0, \"#f0f921\"]], \"type\": \"heatmap\"}], \"heatmapgl\": [{\"colorbar\": {\"outlinewidth\": 0, \"ticks\": \"\"}, \"colorscale\": [[0.0, \"#0d0887\"], [0.1111111111111111, \"#46039f\"], [0.2222222222222222, \"#7201a8\"], [0.3333333333333333, \"#9c179e\"], [0.4444444444444444, \"#bd3786\"], [0.5555555555555556, \"#d8576b\"], [0.6666666666666666, \"#ed7953\"], [0.7777777777777778, \"#fb9f3a\"], [0.8888888888888888, \"#fdca26\"], [1.0, \"#f0f921\"]], \"type\": \"heatmapgl\"}], \"histogram\": [{\"marker\": {\"colorbar\": {\"outlinewidth\": 0, \"ticks\": \"\"}}, \"type\": \"histogram\"}], \"histogram2d\": [{\"colorbar\": {\"outlinewidth\": 0, \"ticks\": \"\"}, \"colorscale\": [[0.0, \"#0d0887\"], [0.1111111111111111, \"#46039f\"], [0.2222222222222222, \"#7201a8\"], [0.3333333333333333, \"#9c179e\"], [0.4444444444444444, \"#bd3786\"], [0.5555555555555556, \"#d8576b\"], [0.6666666666666666, \"#ed7953\"], [0.7777777777777778, \"#fb9f3a\"], [0.8888888888888888, \"#fdca26\"], [1.0, \"#f0f921\"]], \"type\": \"histogram2d\"}], \"histogram2dcontour\": [{\"colorbar\": {\"outlinewidth\": 0, \"ticks\": \"\"}, \"colorscale\": [[0.0, \"#0d0887\"], [0.1111111111111111, \"#46039f\"], [0.2222222222222222, \"#7201a8\"], [0.3333333333333333, \"#9c179e\"], [0.4444444444444444, \"#bd3786\"], [0.5555555555555556, \"#d8576b\"], [0.6666666666666666, \"#ed7953\"], [0.7777777777777778, \"#fb9f3a\"], [0.8888888888888888, \"#fdca26\"], [1.0, \"#f0f921\"]], \"type\": \"histogram2dcontour\"}], \"mesh3d\": [{\"colorbar\": {\"outlinewidth\": 0, \"ticks\": \"\"}, \"type\": \"mesh3d\"}], \"parcoords\": [{\"line\": {\"colorbar\": {\"outlinewidth\": 0, \"ticks\": \"\"}}, \"type\": \"parcoords\"}], \"pie\": [{\"automargin\": true, \"type\": \"pie\"}], \"scatter\": [{\"marker\": {\"colorbar\": {\"outlinewidth\": 0, \"ticks\": \"\"}}, \"type\": \"scatter\"}], \"scatter3d\": [{\"line\": {\"colorbar\": {\"outlinewidth\": 0, \"ticks\": \"\"}}, \"marker\": {\"colorbar\": {\"outlinewidth\": 0, \"ticks\": \"\"}}, \"type\": \"scatter3d\"}], \"scattercarpet\": [{\"marker\": {\"colorbar\": {\"outlinewidth\": 0, \"ticks\": \"\"}}, \"type\": \"scattercarpet\"}], \"scattergeo\": [{\"marker\": {\"colorbar\": {\"outlinewidth\": 0, \"ticks\": \"\"}}, \"type\": \"scattergeo\"}], \"scattergl\": [{\"marker\": {\"colorbar\": {\"outlinewidth\": 0, \"ticks\": \"\"}}, \"type\": \"scattergl\"}], \"scattermapbox\": [{\"marker\": {\"colorbar\": {\"outlinewidth\": 0, \"ticks\": \"\"}}, \"type\": \"scattermapbox\"}], \"scatterpolar\": [{\"marker\": {\"colorbar\": {\"outlinewidth\": 0, \"ticks\": \"\"}}, \"type\": \"scatterpolar\"}], \"scatterpolargl\": [{\"marker\": {\"colorbar\": {\"outlinewidth\": 0, \"ticks\": \"\"}}, \"type\": \"scatterpolargl\"}], \"scatterternary\": [{\"marker\": {\"colorbar\": {\"outlinewidth\": 0, \"ticks\": \"\"}}, \"type\": \"scatterternary\"}], \"surface\": [{\"colorbar\": {\"outlinewidth\": 0, \"ticks\": \"\"}, \"colorscale\": [[0.0, \"#0d0887\"], [0.1111111111111111, \"#46039f\"], [0.2222222222222222, \"#7201a8\"], [0.3333333333333333, \"#9c179e\"], [0.4444444444444444, \"#bd3786\"], [0.5555555555555556, \"#d8576b\"], [0.6666666666666666, \"#ed7953\"], [0.7777777777777778, \"#fb9f3a\"], [0.8888888888888888, \"#fdca26\"], [1.0, \"#f0f921\"]], \"type\": \"surface\"}], \"table\": [{\"cells\": {\"fill\": {\"color\": \"#EBF0F8\"}, \"line\": {\"color\": \"white\"}}, \"header\": {\"fill\": {\"color\": \"#C8D4E3\"}, \"line\": {\"color\": \"white\"}}, \"type\": \"table\"}]}, \"layout\": {\"annotationdefaults\": {\"arrowcolor\": \"#2a3f5f\", \"arrowhead\": 0, \"arrowwidth\": 1}, \"coloraxis\": {\"colorbar\": {\"outlinewidth\": 0, \"ticks\": \"\"}}, \"colorscale\": {\"diverging\": [[0, \"#8e0152\"], [0.1, \"#c51b7d\"], [0.2, \"#de77ae\"], [0.3, \"#f1b6da\"], [0.4, \"#fde0ef\"], [0.5, \"#f7f7f7\"], [0.6, \"#e6f5d0\"], [0.7, \"#b8e186\"], [0.8, \"#7fbc41\"], [0.9, \"#4d9221\"], [1, \"#276419\"]], \"sequential\": [[0.0, \"#0d0887\"], [0.1111111111111111, \"#46039f\"], [0.2222222222222222, \"#7201a8\"], [0.3333333333333333, \"#9c179e\"], [0.4444444444444444, \"#bd3786\"], [0.5555555555555556, \"#d8576b\"], [0.6666666666666666, \"#ed7953\"], [0.7777777777777778, \"#fb9f3a\"], [0.8888888888888888, \"#fdca26\"], [1.0, \"#f0f921\"]], \"sequentialminus\": [[0.0, \"#0d0887\"], [0.1111111111111111, \"#46039f\"], [0.2222222222222222, \"#7201a8\"], [0.3333333333333333, \"#9c179e\"], [0.4444444444444444, \"#bd3786\"], [0.5555555555555556, \"#d8576b\"], [0.6666666666666666, \"#ed7953\"], [0.7777777777777778, \"#fb9f3a\"], [0.8888888888888888, \"#fdca26\"], [1.0, \"#f0f921\"]]}, \"colorway\": [\"#636efa\", \"#EF553B\", \"#00cc96\", \"#ab63fa\", \"#FFA15A\", \"#19d3f3\", \"#FF6692\", \"#B6E880\", \"#FF97FF\", \"#FECB52\"], \"font\": {\"color\": \"#2a3f5f\"}, \"geo\": {\"bgcolor\": \"white\", \"lakecolor\": \"white\", \"landcolor\": \"#E5ECF6\", \"showlakes\": true, \"showland\": true, \"subunitcolor\": \"white\"}, \"hoverlabel\": {\"align\": \"left\"}, \"hovermode\": \"closest\", \"mapbox\": {\"style\": \"light\"}, \"paper_bgcolor\": \"white\", \"plot_bgcolor\": \"#E5ECF6\", \"polar\": {\"angularaxis\": {\"gridcolor\": \"white\", \"linecolor\": \"white\", \"ticks\": \"\"}, \"bgcolor\": \"#E5ECF6\", \"radialaxis\": {\"gridcolor\": \"white\", \"linecolor\": \"white\", \"ticks\": \"\"}}, \"scene\": {\"xaxis\": {\"backgroundcolor\": \"#E5ECF6\", \"gridcolor\": \"white\", \"gridwidth\": 2, \"linecolor\": \"white\", \"showbackground\": true, \"ticks\": \"\", \"zerolinecolor\": \"white\"}, \"yaxis\": {\"backgroundcolor\": \"#E5ECF6\", \"gridcolor\": \"white\", \"gridwidth\": 2, \"linecolor\": \"white\", \"showbackground\": true, \"ticks\": \"\", \"zerolinecolor\": \"white\"}, \"zaxis\": {\"backgroundcolor\": \"#E5ECF6\", \"gridcolor\": \"white\", \"gridwidth\": 2, \"linecolor\": \"white\", \"showbackground\": true, \"ticks\": \"\", \"zerolinecolor\": \"white\"}}, \"shapedefaults\": {\"line\": {\"color\": \"#2a3f5f\"}}, \"ternary\": {\"aaxis\": {\"gridcolor\": \"white\", \"linecolor\": \"white\", \"ticks\": \"\"}, \"baxis\": {\"gridcolor\": \"white\", \"linecolor\": \"white\", \"ticks\": \"\"}, \"bgcolor\": \"#E5ECF6\", \"caxis\": {\"gridcolor\": \"white\", \"linecolor\": \"white\", \"ticks\": \"\"}}, \"title\": {\"x\": 0.05}, \"xaxis\": {\"automargin\": true, \"gridcolor\": \"white\", \"linecolor\": \"white\", \"ticks\": \"\", \"title\": {\"standoff\": 15}, \"zerolinecolor\": \"white\", \"zerolinewidth\": 2}, \"yaxis\": {\"automargin\": true, \"gridcolor\": \"white\", \"linecolor\": \"white\", \"ticks\": \"\", \"title\": {\"standoff\": 15}, \"zerolinecolor\": \"white\", \"zerolinewidth\": 2}}}, \"title\": {\"text\": \"PCA Explained Variance\"}, \"xaxis\": {\"anchor\": \"y\", \"domain\": [0.0, 1.0], \"title\": {\"text\": \"Dimension\"}}, \"yaxis\": {\"anchor\": \"x\", \"domain\": [0.0, 1.0], \"title\": {\"text\": \"Ratio\"}}},\n",
              "                        {\"responsive\": true}\n",
              "                    ).then(function(){\n",
              "                            \n",
              "var gd = document.getElementById('85da696b-f201-4cf0-98ff-ca0f0d92b28c');\n",
              "var x = new MutationObserver(function (mutations, observer) {{\n",
              "        var display = window.getComputedStyle(gd).display;\n",
              "        if (!display || display === 'none') {{\n",
              "            console.log([gd, 'removed!']);\n",
              "            Plotly.purge(gd);\n",
              "            observer.disconnect();\n",
              "        }}\n",
              "}});\n",
              "\n",
              "// Listen for the removal of the full notebook cells\n",
              "var notebookContainer = gd.closest('#notebook-container');\n",
              "if (notebookContainer) {{\n",
              "    x.observe(notebookContainer, {childList: true});\n",
              "}}\n",
              "\n",
              "// Listen for the clearing of the current output cell\n",
              "var outputEl = gd.closest('.output');\n",
              "if (outputEl) {{\n",
              "    x.observe(outputEl, {childList: true});\n",
              "}}\n",
              "\n",
              "                        })\n",
              "                };\n",
              "                \n",
              "            </script>\n",
              "        </div>\n",
              "</body>\n",
              "</html>"
            ]
          },
          "metadata": {
            "tags": []
          }
        }
      ]
    },
    {
      "cell_type": "code",
      "metadata": {
        "colab": {
          "base_uri": "https://localhost:8080/",
          "height": 542
        },
        "id": "hO7ltkQ19Z9d",
        "outputId": "f5bca440-519d-4389-9ebe-4506e1410b56"
      },
      "source": [
        "# Training vs. Test Accuracy across Models\n",
        "models = ['LR', 'LR-Reg', 'RF', 'RF-Param']\n",
        "fig = go.Figure(data = [\n",
        "    go.Bar(name = 'Training', x = models, y = [0.437893, 0.469102, 0.566799, 0.621909]), \n",
        "    go.Bar(name = 'Test', x = models, y = [0.387849, 0.407864, 0.499032, 0.571034])], \n",
        "    layout = go.Layout(\n",
        "        title = go.layout.Title(text = 'Training vs. Test Accuracy Across Models')\n",
        "    )\n",
        ")\n",
        "\n",
        "fig.update_layout(\n",
        "    xaxis_title = 'Model',\n",
        "    yaxis_title = 'Accuracy', \n",
        "    barmode = 'group')\n",
        "fig.show()"
      ],
      "execution_count": null,
      "outputs": [
        {
          "output_type": "display_data",
          "data": {
            "text/html": [
              "<html>\n",
              "<head><meta charset=\"utf-8\" /></head>\n",
              "<body>\n",
              "    <div>\n",
              "            <script src=\"https://cdnjs.cloudflare.com/ajax/libs/mathjax/2.7.5/MathJax.js?config=TeX-AMS-MML_SVG\"></script><script type=\"text/javascript\">if (window.MathJax) {MathJax.Hub.Config({SVG: {font: \"STIX-Web\"}});}</script>\n",
              "                <script type=\"text/javascript\">window.PlotlyConfig = {MathJaxConfig: 'local'};</script>\n",
              "        <script src=\"https://cdn.plot.ly/plotly-latest.min.js\"></script>    \n",
              "            <div id=\"a4991895-c67b-4039-8481-52a010aa1425\" class=\"plotly-graph-div\" style=\"height:525px; width:100%;\"></div>\n",
              "            <script type=\"text/javascript\">\n",
              "                \n",
              "                    window.PLOTLYENV=window.PLOTLYENV || {};\n",
              "                    \n",
              "                if (document.getElementById(\"a4991895-c67b-4039-8481-52a010aa1425\")) {\n",
              "                    Plotly.newPlot(\n",
              "                        'a4991895-c67b-4039-8481-52a010aa1425',\n",
              "                        [{\"name\": \"Training\", \"type\": \"bar\", \"x\": [\"LR\", \"LR-Reg\", \"RF\", \"RF-Param\"], \"y\": [0.437893, 0.469102, 0.566799, 0.621909]}, {\"name\": \"Test\", \"type\": \"bar\", \"x\": [\"LR\", \"LR-Reg\", \"RF\", \"RF-Param\"], \"y\": [0.387849, 0.407864, 0.499032, 0.571034]}],\n",
              "                        {\"barmode\": \"group\", \"template\": {\"data\": {\"bar\": [{\"error_x\": {\"color\": \"#2a3f5f\"}, \"error_y\": {\"color\": \"#2a3f5f\"}, \"marker\": {\"line\": {\"color\": \"#E5ECF6\", \"width\": 0.5}}, \"type\": \"bar\"}], \"barpolar\": [{\"marker\": {\"line\": {\"color\": \"#E5ECF6\", \"width\": 0.5}}, \"type\": \"barpolar\"}], \"carpet\": [{\"aaxis\": {\"endlinecolor\": \"#2a3f5f\", \"gridcolor\": \"white\", \"linecolor\": \"white\", \"minorgridcolor\": \"white\", \"startlinecolor\": \"#2a3f5f\"}, \"baxis\": {\"endlinecolor\": \"#2a3f5f\", \"gridcolor\": \"white\", \"linecolor\": \"white\", \"minorgridcolor\": \"white\", \"startlinecolor\": \"#2a3f5f\"}, \"type\": \"carpet\"}], \"choropleth\": [{\"colorbar\": {\"outlinewidth\": 0, \"ticks\": \"\"}, \"type\": \"choropleth\"}], \"contour\": [{\"colorbar\": {\"outlinewidth\": 0, \"ticks\": \"\"}, \"colorscale\": [[0.0, \"#0d0887\"], [0.1111111111111111, \"#46039f\"], [0.2222222222222222, \"#7201a8\"], [0.3333333333333333, \"#9c179e\"], [0.4444444444444444, \"#bd3786\"], [0.5555555555555556, \"#d8576b\"], [0.6666666666666666, \"#ed7953\"], [0.7777777777777778, \"#fb9f3a\"], [0.8888888888888888, \"#fdca26\"], [1.0, \"#f0f921\"]], \"type\": \"contour\"}], \"contourcarpet\": [{\"colorbar\": {\"outlinewidth\": 0, \"ticks\": \"\"}, \"type\": \"contourcarpet\"}], \"heatmap\": [{\"colorbar\": {\"outlinewidth\": 0, \"ticks\": \"\"}, \"colorscale\": [[0.0, \"#0d0887\"], [0.1111111111111111, \"#46039f\"], [0.2222222222222222, \"#7201a8\"], [0.3333333333333333, \"#9c179e\"], [0.4444444444444444, \"#bd3786\"], [0.5555555555555556, \"#d8576b\"], [0.6666666666666666, \"#ed7953\"], [0.7777777777777778, \"#fb9f3a\"], [0.8888888888888888, \"#fdca26\"], [1.0, \"#f0f921\"]], \"type\": \"heatmap\"}], \"heatmapgl\": [{\"colorbar\": {\"outlinewidth\": 0, \"ticks\": \"\"}, \"colorscale\": [[0.0, \"#0d0887\"], [0.1111111111111111, \"#46039f\"], [0.2222222222222222, \"#7201a8\"], [0.3333333333333333, \"#9c179e\"], [0.4444444444444444, \"#bd3786\"], [0.5555555555555556, \"#d8576b\"], [0.6666666666666666, \"#ed7953\"], [0.7777777777777778, \"#fb9f3a\"], [0.8888888888888888, \"#fdca26\"], [1.0, \"#f0f921\"]], \"type\": \"heatmapgl\"}], \"histogram\": [{\"marker\": {\"colorbar\": {\"outlinewidth\": 0, \"ticks\": \"\"}}, \"type\": \"histogram\"}], \"histogram2d\": [{\"colorbar\": {\"outlinewidth\": 0, \"ticks\": \"\"}, \"colorscale\": [[0.0, \"#0d0887\"], [0.1111111111111111, \"#46039f\"], [0.2222222222222222, \"#7201a8\"], [0.3333333333333333, \"#9c179e\"], [0.4444444444444444, \"#bd3786\"], [0.5555555555555556, \"#d8576b\"], [0.6666666666666666, \"#ed7953\"], [0.7777777777777778, \"#fb9f3a\"], [0.8888888888888888, \"#fdca26\"], [1.0, \"#f0f921\"]], \"type\": \"histogram2d\"}], \"histogram2dcontour\": [{\"colorbar\": {\"outlinewidth\": 0, \"ticks\": \"\"}, \"colorscale\": [[0.0, \"#0d0887\"], [0.1111111111111111, \"#46039f\"], [0.2222222222222222, \"#7201a8\"], [0.3333333333333333, \"#9c179e\"], [0.4444444444444444, \"#bd3786\"], [0.5555555555555556, \"#d8576b\"], [0.6666666666666666, \"#ed7953\"], [0.7777777777777778, \"#fb9f3a\"], [0.8888888888888888, \"#fdca26\"], [1.0, \"#f0f921\"]], \"type\": \"histogram2dcontour\"}], \"mesh3d\": [{\"colorbar\": {\"outlinewidth\": 0, \"ticks\": \"\"}, \"type\": \"mesh3d\"}], \"parcoords\": [{\"line\": {\"colorbar\": {\"outlinewidth\": 0, \"ticks\": \"\"}}, \"type\": \"parcoords\"}], \"pie\": [{\"automargin\": true, \"type\": \"pie\"}], \"scatter\": [{\"marker\": {\"colorbar\": {\"outlinewidth\": 0, \"ticks\": \"\"}}, \"type\": \"scatter\"}], \"scatter3d\": [{\"line\": {\"colorbar\": {\"outlinewidth\": 0, \"ticks\": \"\"}}, \"marker\": {\"colorbar\": {\"outlinewidth\": 0, \"ticks\": \"\"}}, \"type\": \"scatter3d\"}], \"scattercarpet\": [{\"marker\": {\"colorbar\": {\"outlinewidth\": 0, \"ticks\": \"\"}}, \"type\": \"scattercarpet\"}], \"scattergeo\": [{\"marker\": {\"colorbar\": {\"outlinewidth\": 0, \"ticks\": \"\"}}, \"type\": \"scattergeo\"}], \"scattergl\": [{\"marker\": {\"colorbar\": {\"outlinewidth\": 0, \"ticks\": \"\"}}, \"type\": \"scattergl\"}], \"scattermapbox\": [{\"marker\": {\"colorbar\": {\"outlinewidth\": 0, \"ticks\": \"\"}}, \"type\": \"scattermapbox\"}], \"scatterpolar\": [{\"marker\": {\"colorbar\": {\"outlinewidth\": 0, \"ticks\": \"\"}}, \"type\": \"scatterpolar\"}], \"scatterpolargl\": [{\"marker\": {\"colorbar\": {\"outlinewidth\": 0, \"ticks\": \"\"}}, \"type\": \"scatterpolargl\"}], \"scatterternary\": [{\"marker\": {\"colorbar\": {\"outlinewidth\": 0, \"ticks\": \"\"}}, \"type\": \"scatterternary\"}], \"surface\": [{\"colorbar\": {\"outlinewidth\": 0, \"ticks\": \"\"}, \"colorscale\": [[0.0, \"#0d0887\"], [0.1111111111111111, \"#46039f\"], [0.2222222222222222, \"#7201a8\"], [0.3333333333333333, \"#9c179e\"], [0.4444444444444444, \"#bd3786\"], [0.5555555555555556, \"#d8576b\"], [0.6666666666666666, \"#ed7953\"], [0.7777777777777778, \"#fb9f3a\"], [0.8888888888888888, \"#fdca26\"], [1.0, \"#f0f921\"]], \"type\": \"surface\"}], \"table\": [{\"cells\": {\"fill\": {\"color\": \"#EBF0F8\"}, \"line\": {\"color\": \"white\"}}, \"header\": {\"fill\": {\"color\": \"#C8D4E3\"}, \"line\": {\"color\": \"white\"}}, \"type\": \"table\"}]}, \"layout\": {\"annotationdefaults\": {\"arrowcolor\": \"#2a3f5f\", \"arrowhead\": 0, \"arrowwidth\": 1}, \"coloraxis\": {\"colorbar\": {\"outlinewidth\": 0, \"ticks\": \"\"}}, \"colorscale\": {\"diverging\": [[0, \"#8e0152\"], [0.1, \"#c51b7d\"], [0.2, \"#de77ae\"], [0.3, \"#f1b6da\"], [0.4, \"#fde0ef\"], [0.5, \"#f7f7f7\"], [0.6, \"#e6f5d0\"], [0.7, \"#b8e186\"], [0.8, \"#7fbc41\"], [0.9, \"#4d9221\"], [1, \"#276419\"]], \"sequential\": [[0.0, \"#0d0887\"], [0.1111111111111111, \"#46039f\"], [0.2222222222222222, \"#7201a8\"], [0.3333333333333333, \"#9c179e\"], [0.4444444444444444, \"#bd3786\"], [0.5555555555555556, \"#d8576b\"], [0.6666666666666666, \"#ed7953\"], [0.7777777777777778, \"#fb9f3a\"], [0.8888888888888888, \"#fdca26\"], [1.0, \"#f0f921\"]], \"sequentialminus\": [[0.0, \"#0d0887\"], [0.1111111111111111, \"#46039f\"], [0.2222222222222222, \"#7201a8\"], [0.3333333333333333, \"#9c179e\"], [0.4444444444444444, \"#bd3786\"], [0.5555555555555556, \"#d8576b\"], [0.6666666666666666, \"#ed7953\"], [0.7777777777777778, \"#fb9f3a\"], [0.8888888888888888, \"#fdca26\"], [1.0, \"#f0f921\"]]}, \"colorway\": [\"#636efa\", \"#EF553B\", \"#00cc96\", \"#ab63fa\", \"#FFA15A\", \"#19d3f3\", \"#FF6692\", \"#B6E880\", \"#FF97FF\", \"#FECB52\"], \"font\": {\"color\": \"#2a3f5f\"}, \"geo\": {\"bgcolor\": \"white\", \"lakecolor\": \"white\", \"landcolor\": \"#E5ECF6\", \"showlakes\": true, \"showland\": true, \"subunitcolor\": \"white\"}, \"hoverlabel\": {\"align\": \"left\"}, \"hovermode\": \"closest\", \"mapbox\": {\"style\": \"light\"}, \"paper_bgcolor\": \"white\", \"plot_bgcolor\": \"#E5ECF6\", \"polar\": {\"angularaxis\": {\"gridcolor\": \"white\", \"linecolor\": \"white\", \"ticks\": \"\"}, \"bgcolor\": \"#E5ECF6\", \"radialaxis\": {\"gridcolor\": \"white\", \"linecolor\": \"white\", \"ticks\": \"\"}}, \"scene\": {\"xaxis\": {\"backgroundcolor\": \"#E5ECF6\", \"gridcolor\": \"white\", \"gridwidth\": 2, \"linecolor\": \"white\", \"showbackground\": true, \"ticks\": \"\", \"zerolinecolor\": \"white\"}, \"yaxis\": {\"backgroundcolor\": \"#E5ECF6\", \"gridcolor\": \"white\", \"gridwidth\": 2, \"linecolor\": \"white\", \"showbackground\": true, \"ticks\": \"\", \"zerolinecolor\": \"white\"}, \"zaxis\": {\"backgroundcolor\": \"#E5ECF6\", \"gridcolor\": \"white\", \"gridwidth\": 2, \"linecolor\": \"white\", \"showbackground\": true, \"ticks\": \"\", \"zerolinecolor\": \"white\"}}, \"shapedefaults\": {\"line\": {\"color\": \"#2a3f5f\"}}, \"ternary\": {\"aaxis\": {\"gridcolor\": \"white\", \"linecolor\": \"white\", \"ticks\": \"\"}, \"baxis\": {\"gridcolor\": \"white\", \"linecolor\": \"white\", \"ticks\": \"\"}, \"bgcolor\": \"#E5ECF6\", \"caxis\": {\"gridcolor\": \"white\", \"linecolor\": \"white\", \"ticks\": \"\"}}, \"title\": {\"x\": 0.05}, \"xaxis\": {\"automargin\": true, \"gridcolor\": \"white\", \"linecolor\": \"white\", \"ticks\": \"\", \"title\": {\"standoff\": 15}, \"zerolinecolor\": \"white\", \"zerolinewidth\": 2}, \"yaxis\": {\"automargin\": true, \"gridcolor\": \"white\", \"linecolor\": \"white\", \"ticks\": \"\", \"title\": {\"standoff\": 15}, \"zerolinecolor\": \"white\", \"zerolinewidth\": 2}}}, \"title\": {\"text\": \"Training vs. Test Accuracy Across Models\"}, \"xaxis\": {\"title\": {\"text\": \"Model\"}}, \"yaxis\": {\"title\": {\"text\": \"Accuracy\"}}},\n",
              "                        {\"responsive\": true}\n",
              "                    ).then(function(){\n",
              "                            \n",
              "var gd = document.getElementById('a4991895-c67b-4039-8481-52a010aa1425');\n",
              "var x = new MutationObserver(function (mutations, observer) {{\n",
              "        var display = window.getComputedStyle(gd).display;\n",
              "        if (!display || display === 'none') {{\n",
              "            console.log([gd, 'removed!']);\n",
              "            Plotly.purge(gd);\n",
              "            observer.disconnect();\n",
              "        }}\n",
              "}});\n",
              "\n",
              "// Listen for the removal of the full notebook cells\n",
              "var notebookContainer = gd.closest('#notebook-container');\n",
              "if (notebookContainer) {{\n",
              "    x.observe(notebookContainer, {childList: true});\n",
              "}}\n",
              "\n",
              "// Listen for the clearing of the current output cell\n",
              "var outputEl = gd.closest('.output');\n",
              "if (outputEl) {{\n",
              "    x.observe(outputEl, {childList: true});\n",
              "}}\n",
              "\n",
              "                        })\n",
              "                };\n",
              "                \n",
              "            </script>\n",
              "        </div>\n",
              "</body>\n",
              "</html>"
            ]
          },
          "metadata": {
            "tags": []
          }
        }
      ]
    },
    {
      "cell_type": "code",
      "metadata": {
        "colab": {
          "base_uri": "https://localhost:8080/",
          "height": 542
        },
        "id": "aE8Zv0l89eNH",
        "outputId": "c55d18c6-68b1-4504-e09a-ee25e4e414df"
      },
      "source": [
        "# RMSE across Models\n",
        "fig = px.bar(x = models, y = [4.112018, 4.031907, 2.567549, 2.109739], \n",
        "             title = 'Test RMSE Across Models', labels = {\n",
        "                 'x': 'Model', \n",
        "                 'y': 'RMSE'\n",
        "             }, color = ['red', 'green', 'blue', 'purple'])\n",
        "fig.layout.update(showlegend = False)\n",
        "fig.show()"
      ],
      "execution_count": null,
      "outputs": [
        {
          "output_type": "display_data",
          "data": {
            "text/html": [
              "<html>\n",
              "<head><meta charset=\"utf-8\" /></head>\n",
              "<body>\n",
              "    <div>\n",
              "            <script src=\"https://cdnjs.cloudflare.com/ajax/libs/mathjax/2.7.5/MathJax.js?config=TeX-AMS-MML_SVG\"></script><script type=\"text/javascript\">if (window.MathJax) {MathJax.Hub.Config({SVG: {font: \"STIX-Web\"}});}</script>\n",
              "                <script type=\"text/javascript\">window.PlotlyConfig = {MathJaxConfig: 'local'};</script>\n",
              "        <script src=\"https://cdn.plot.ly/plotly-latest.min.js\"></script>    \n",
              "            <div id=\"1d731f42-fb21-45d1-ad3e-f9da77c6f1f3\" class=\"plotly-graph-div\" style=\"height:525px; width:100%;\"></div>\n",
              "            <script type=\"text/javascript\">\n",
              "                \n",
              "                    window.PLOTLYENV=window.PLOTLYENV || {};\n",
              "                    \n",
              "                if (document.getElementById(\"1d731f42-fb21-45d1-ad3e-f9da77c6f1f3\")) {\n",
              "                    Plotly.newPlot(\n",
              "                        '1d731f42-fb21-45d1-ad3e-f9da77c6f1f3',\n",
              "                        [{\"alignmentgroup\": \"True\", \"hoverlabel\": {\"namelength\": 0}, \"hovertemplate\": \"color=red<br>Model=%{x}<br>RMSE=%{y}\", \"legendgroup\": \"color=red\", \"marker\": {\"color\": \"#636efa\"}, \"name\": \"color=red\", \"offsetgroup\": \"color=red\", \"orientation\": \"v\", \"showlegend\": true, \"textposition\": \"auto\", \"type\": \"bar\", \"x\": [\"LR\"], \"xaxis\": \"x\", \"y\": [4.112018], \"yaxis\": \"y\"}, {\"alignmentgroup\": \"True\", \"hoverlabel\": {\"namelength\": 0}, \"hovertemplate\": \"color=green<br>Model=%{x}<br>RMSE=%{y}\", \"legendgroup\": \"color=green\", \"marker\": {\"color\": \"#EF553B\"}, \"name\": \"color=green\", \"offsetgroup\": \"color=green\", \"orientation\": \"v\", \"showlegend\": true, \"textposition\": \"auto\", \"type\": \"bar\", \"x\": [\"LR-Reg\"], \"xaxis\": \"x\", \"y\": [4.031907], \"yaxis\": \"y\"}, {\"alignmentgroup\": \"True\", \"hoverlabel\": {\"namelength\": 0}, \"hovertemplate\": \"color=blue<br>Model=%{x}<br>RMSE=%{y}\", \"legendgroup\": \"color=blue\", \"marker\": {\"color\": \"#00cc96\"}, \"name\": \"color=blue\", \"offsetgroup\": \"color=blue\", \"orientation\": \"v\", \"showlegend\": true, \"textposition\": \"auto\", \"type\": \"bar\", \"x\": [\"RF\"], \"xaxis\": \"x\", \"y\": [2.567549], \"yaxis\": \"y\"}, {\"alignmentgroup\": \"True\", \"hoverlabel\": {\"namelength\": 0}, \"hovertemplate\": \"color=purple<br>Model=%{x}<br>RMSE=%{y}\", \"legendgroup\": \"color=purple\", \"marker\": {\"color\": \"#ab63fa\"}, \"name\": \"color=purple\", \"offsetgroup\": \"color=purple\", \"orientation\": \"v\", \"showlegend\": true, \"textposition\": \"auto\", \"type\": \"bar\", \"x\": [\"RF-Param\"], \"xaxis\": \"x\", \"y\": [2.109739], \"yaxis\": \"y\"}],\n",
              "                        {\"barmode\": \"relative\", \"legend\": {\"tracegroupgap\": 0}, \"showlegend\": false, \"template\": {\"data\": {\"bar\": [{\"error_x\": {\"color\": \"#2a3f5f\"}, \"error_y\": {\"color\": \"#2a3f5f\"}, \"marker\": {\"line\": {\"color\": \"#E5ECF6\", \"width\": 0.5}}, \"type\": \"bar\"}], \"barpolar\": [{\"marker\": {\"line\": {\"color\": \"#E5ECF6\", \"width\": 0.5}}, \"type\": \"barpolar\"}], \"carpet\": [{\"aaxis\": {\"endlinecolor\": \"#2a3f5f\", \"gridcolor\": \"white\", \"linecolor\": \"white\", \"minorgridcolor\": \"white\", \"startlinecolor\": \"#2a3f5f\"}, \"baxis\": {\"endlinecolor\": \"#2a3f5f\", \"gridcolor\": \"white\", \"linecolor\": \"white\", \"minorgridcolor\": \"white\", \"startlinecolor\": \"#2a3f5f\"}, \"type\": \"carpet\"}], \"choropleth\": [{\"colorbar\": {\"outlinewidth\": 0, \"ticks\": \"\"}, \"type\": \"choropleth\"}], \"contour\": [{\"colorbar\": {\"outlinewidth\": 0, \"ticks\": \"\"}, \"colorscale\": [[0.0, \"#0d0887\"], [0.1111111111111111, \"#46039f\"], [0.2222222222222222, \"#7201a8\"], [0.3333333333333333, \"#9c179e\"], [0.4444444444444444, \"#bd3786\"], [0.5555555555555556, \"#d8576b\"], [0.6666666666666666, \"#ed7953\"], [0.7777777777777778, \"#fb9f3a\"], [0.8888888888888888, \"#fdca26\"], [1.0, \"#f0f921\"]], \"type\": \"contour\"}], \"contourcarpet\": [{\"colorbar\": {\"outlinewidth\": 0, \"ticks\": \"\"}, \"type\": \"contourcarpet\"}], \"heatmap\": [{\"colorbar\": {\"outlinewidth\": 0, \"ticks\": \"\"}, \"colorscale\": [[0.0, \"#0d0887\"], [0.1111111111111111, \"#46039f\"], [0.2222222222222222, \"#7201a8\"], [0.3333333333333333, \"#9c179e\"], [0.4444444444444444, \"#bd3786\"], [0.5555555555555556, \"#d8576b\"], [0.6666666666666666, \"#ed7953\"], [0.7777777777777778, \"#fb9f3a\"], [0.8888888888888888, \"#fdca26\"], [1.0, \"#f0f921\"]], \"type\": \"heatmap\"}], \"heatmapgl\": [{\"colorbar\": {\"outlinewidth\": 0, \"ticks\": \"\"}, \"colorscale\": [[0.0, \"#0d0887\"], [0.1111111111111111, \"#46039f\"], [0.2222222222222222, \"#7201a8\"], [0.3333333333333333, \"#9c179e\"], [0.4444444444444444, \"#bd3786\"], [0.5555555555555556, \"#d8576b\"], [0.6666666666666666, \"#ed7953\"], [0.7777777777777778, \"#fb9f3a\"], [0.8888888888888888, \"#fdca26\"], [1.0, \"#f0f921\"]], \"type\": \"heatmapgl\"}], \"histogram\": [{\"marker\": {\"colorbar\": {\"outlinewidth\": 0, \"ticks\": \"\"}}, \"type\": \"histogram\"}], \"histogram2d\": [{\"colorbar\": {\"outlinewidth\": 0, \"ticks\": \"\"}, \"colorscale\": [[0.0, \"#0d0887\"], [0.1111111111111111, \"#46039f\"], [0.2222222222222222, \"#7201a8\"], [0.3333333333333333, \"#9c179e\"], [0.4444444444444444, \"#bd3786\"], [0.5555555555555556, \"#d8576b\"], [0.6666666666666666, \"#ed7953\"], [0.7777777777777778, \"#fb9f3a\"], [0.8888888888888888, \"#fdca26\"], [1.0, \"#f0f921\"]], \"type\": \"histogram2d\"}], \"histogram2dcontour\": [{\"colorbar\": {\"outlinewidth\": 0, \"ticks\": \"\"}, \"colorscale\": [[0.0, \"#0d0887\"], [0.1111111111111111, \"#46039f\"], [0.2222222222222222, \"#7201a8\"], [0.3333333333333333, \"#9c179e\"], [0.4444444444444444, \"#bd3786\"], [0.5555555555555556, \"#d8576b\"], [0.6666666666666666, \"#ed7953\"], [0.7777777777777778, \"#fb9f3a\"], [0.8888888888888888, \"#fdca26\"], [1.0, \"#f0f921\"]], \"type\": \"histogram2dcontour\"}], \"mesh3d\": [{\"colorbar\": {\"outlinewidth\": 0, \"ticks\": \"\"}, \"type\": \"mesh3d\"}], \"parcoords\": [{\"line\": {\"colorbar\": {\"outlinewidth\": 0, \"ticks\": \"\"}}, \"type\": \"parcoords\"}], \"pie\": [{\"automargin\": true, \"type\": \"pie\"}], \"scatter\": [{\"marker\": {\"colorbar\": {\"outlinewidth\": 0, \"ticks\": \"\"}}, \"type\": \"scatter\"}], \"scatter3d\": [{\"line\": {\"colorbar\": {\"outlinewidth\": 0, \"ticks\": \"\"}}, \"marker\": {\"colorbar\": {\"outlinewidth\": 0, \"ticks\": \"\"}}, \"type\": \"scatter3d\"}], \"scattercarpet\": [{\"marker\": {\"colorbar\": {\"outlinewidth\": 0, \"ticks\": \"\"}}, \"type\": \"scattercarpet\"}], \"scattergeo\": [{\"marker\": {\"colorbar\": {\"outlinewidth\": 0, \"ticks\": \"\"}}, \"type\": \"scattergeo\"}], \"scattergl\": [{\"marker\": {\"colorbar\": {\"outlinewidth\": 0, \"ticks\": \"\"}}, \"type\": \"scattergl\"}], \"scattermapbox\": [{\"marker\": {\"colorbar\": {\"outlinewidth\": 0, \"ticks\": \"\"}}, \"type\": \"scattermapbox\"}], \"scatterpolar\": [{\"marker\": {\"colorbar\": {\"outlinewidth\": 0, \"ticks\": \"\"}}, \"type\": \"scatterpolar\"}], \"scatterpolargl\": [{\"marker\": {\"colorbar\": {\"outlinewidth\": 0, \"ticks\": \"\"}}, \"type\": \"scatterpolargl\"}], \"scatterternary\": [{\"marker\": {\"colorbar\": {\"outlinewidth\": 0, \"ticks\": \"\"}}, \"type\": \"scatterternary\"}], \"surface\": [{\"colorbar\": {\"outlinewidth\": 0, \"ticks\": \"\"}, \"colorscale\": [[0.0, \"#0d0887\"], [0.1111111111111111, \"#46039f\"], [0.2222222222222222, \"#7201a8\"], [0.3333333333333333, \"#9c179e\"], [0.4444444444444444, \"#bd3786\"], [0.5555555555555556, \"#d8576b\"], [0.6666666666666666, \"#ed7953\"], [0.7777777777777778, \"#fb9f3a\"], [0.8888888888888888, \"#fdca26\"], [1.0, \"#f0f921\"]], \"type\": \"surface\"}], \"table\": [{\"cells\": {\"fill\": {\"color\": \"#EBF0F8\"}, \"line\": {\"color\": \"white\"}}, \"header\": {\"fill\": {\"color\": \"#C8D4E3\"}, \"line\": {\"color\": \"white\"}}, \"type\": \"table\"}]}, \"layout\": {\"annotationdefaults\": {\"arrowcolor\": \"#2a3f5f\", \"arrowhead\": 0, \"arrowwidth\": 1}, \"coloraxis\": {\"colorbar\": {\"outlinewidth\": 0, \"ticks\": \"\"}}, \"colorscale\": {\"diverging\": [[0, \"#8e0152\"], [0.1, \"#c51b7d\"], [0.2, \"#de77ae\"], [0.3, \"#f1b6da\"], [0.4, \"#fde0ef\"], [0.5, \"#f7f7f7\"], [0.6, \"#e6f5d0\"], [0.7, \"#b8e186\"], [0.8, \"#7fbc41\"], [0.9, \"#4d9221\"], [1, \"#276419\"]], \"sequential\": [[0.0, \"#0d0887\"], [0.1111111111111111, \"#46039f\"], [0.2222222222222222, \"#7201a8\"], [0.3333333333333333, \"#9c179e\"], [0.4444444444444444, \"#bd3786\"], [0.5555555555555556, \"#d8576b\"], [0.6666666666666666, \"#ed7953\"], [0.7777777777777778, \"#fb9f3a\"], [0.8888888888888888, \"#fdca26\"], [1.0, \"#f0f921\"]], \"sequentialminus\": [[0.0, \"#0d0887\"], [0.1111111111111111, \"#46039f\"], [0.2222222222222222, \"#7201a8\"], [0.3333333333333333, \"#9c179e\"], [0.4444444444444444, \"#bd3786\"], [0.5555555555555556, \"#d8576b\"], [0.6666666666666666, \"#ed7953\"], [0.7777777777777778, \"#fb9f3a\"], [0.8888888888888888, \"#fdca26\"], [1.0, \"#f0f921\"]]}, \"colorway\": [\"#636efa\", \"#EF553B\", \"#00cc96\", \"#ab63fa\", \"#FFA15A\", \"#19d3f3\", \"#FF6692\", \"#B6E880\", \"#FF97FF\", \"#FECB52\"], \"font\": {\"color\": \"#2a3f5f\"}, \"geo\": {\"bgcolor\": \"white\", \"lakecolor\": \"white\", \"landcolor\": \"#E5ECF6\", \"showlakes\": true, \"showland\": true, \"subunitcolor\": \"white\"}, \"hoverlabel\": {\"align\": \"left\"}, \"hovermode\": \"closest\", \"mapbox\": {\"style\": \"light\"}, \"paper_bgcolor\": \"white\", \"plot_bgcolor\": \"#E5ECF6\", \"polar\": {\"angularaxis\": {\"gridcolor\": \"white\", \"linecolor\": \"white\", \"ticks\": \"\"}, \"bgcolor\": \"#E5ECF6\", \"radialaxis\": {\"gridcolor\": \"white\", \"linecolor\": \"white\", \"ticks\": \"\"}}, \"scene\": {\"xaxis\": {\"backgroundcolor\": \"#E5ECF6\", \"gridcolor\": \"white\", \"gridwidth\": 2, \"linecolor\": \"white\", \"showbackground\": true, \"ticks\": \"\", \"zerolinecolor\": \"white\"}, \"yaxis\": {\"backgroundcolor\": \"#E5ECF6\", \"gridcolor\": \"white\", \"gridwidth\": 2, \"linecolor\": \"white\", \"showbackground\": true, \"ticks\": \"\", \"zerolinecolor\": \"white\"}, \"zaxis\": {\"backgroundcolor\": \"#E5ECF6\", \"gridcolor\": \"white\", \"gridwidth\": 2, \"linecolor\": \"white\", \"showbackground\": true, \"ticks\": \"\", \"zerolinecolor\": \"white\"}}, \"shapedefaults\": {\"line\": {\"color\": \"#2a3f5f\"}}, \"ternary\": {\"aaxis\": {\"gridcolor\": \"white\", \"linecolor\": \"white\", \"ticks\": \"\"}, \"baxis\": {\"gridcolor\": \"white\", \"linecolor\": \"white\", \"ticks\": \"\"}, \"bgcolor\": \"#E5ECF6\", \"caxis\": {\"gridcolor\": \"white\", \"linecolor\": \"white\", \"ticks\": \"\"}}, \"title\": {\"x\": 0.05}, \"xaxis\": {\"automargin\": true, \"gridcolor\": \"white\", \"linecolor\": \"white\", \"ticks\": \"\", \"title\": {\"standoff\": 15}, \"zerolinecolor\": \"white\", \"zerolinewidth\": 2}, \"yaxis\": {\"automargin\": true, \"gridcolor\": \"white\", \"linecolor\": \"white\", \"ticks\": \"\", \"title\": {\"standoff\": 15}, \"zerolinecolor\": \"white\", \"zerolinewidth\": 2}}}, \"title\": {\"text\": \"Test RMSE Across Models\"}, \"xaxis\": {\"anchor\": \"y\", \"domain\": [0.0, 1.0], \"title\": {\"text\": \"Model\"}}, \"yaxis\": {\"anchor\": \"x\", \"domain\": [0.0, 1.0], \"title\": {\"text\": \"RMSE\"}}},\n",
              "                        {\"responsive\": true}\n",
              "                    ).then(function(){\n",
              "                            \n",
              "var gd = document.getElementById('1d731f42-fb21-45d1-ad3e-f9da77c6f1f3');\n",
              "var x = new MutationObserver(function (mutations, observer) {{\n",
              "        var display = window.getComputedStyle(gd).display;\n",
              "        if (!display || display === 'none') {{\n",
              "            console.log([gd, 'removed!']);\n",
              "            Plotly.purge(gd);\n",
              "            observer.disconnect();\n",
              "        }}\n",
              "}});\n",
              "\n",
              "// Listen for the removal of the full notebook cells\n",
              "var notebookContainer = gd.closest('#notebook-container');\n",
              "if (notebookContainer) {{\n",
              "    x.observe(notebookContainer, {childList: true});\n",
              "}}\n",
              "\n",
              "// Listen for the clearing of the current output cell\n",
              "var outputEl = gd.closest('.output');\n",
              "if (outputEl) {{\n",
              "    x.observe(outputEl, {childList: true});\n",
              "}}\n",
              "\n",
              "                        })\n",
              "                };\n",
              "                \n",
              "            </script>\n",
              "        </div>\n",
              "</body>\n",
              "</html>"
            ]
          },
          "metadata": {
            "tags": []
          }
        }
      ]
    }
  ]
}